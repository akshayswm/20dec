{
  "nbformat": 4,
  "nbformat_minor": 0,
  "metadata": {
    "colab": {
      "provenance": [],
      "authorship_tag": "ABX9TyMfNtmdoISovAZedTtfY4M6",
      "include_colab_link": true
    },
    "kernelspec": {
      "name": "python3",
      "display_name": "Python 3"
    },
    "language_info": {
      "name": "python"
    }
  },
  "cells": [
    {
      "cell_type": "markdown",
      "metadata": {
        "id": "view-in-github",
        "colab_type": "text"
      },
      "source": [
        "<a href=\"https://colab.research.google.com/github/akshayswm/20dec/blob/main/for_loop_question.ipynb\" target=\"_parent\"><img src=\"https://colab.research.google.com/assets/colab-badge.svg\" alt=\"Open In Colab\"/></a>"
      ]
    },
    {
      "cell_type": "code",
      "execution_count": null,
      "metadata": {
        "colab": {
          "base_uri": "https://localhost:8080/"
        },
        "id": "Xg7s_8VhKE5Z",
        "outputId": "fc0ae722-a56b-4f14-ecc9-a7edef48a39c"
      },
      "outputs": [
        {
          "output_type": "stream",
          "name": "stdout",
          "text": [
            "enter any number10\n",
            "1 2 3 4 5 6 7 8 9 10 "
          ]
        }
      ],
      "source": [
        "#1. Write a program to print all natural numbers from 1 to n. – using for\n",
        "#loop\n",
        "a=int(input(\"enter any number\"))\n",
        "for i in range(1,a+1):\n",
        "  print(i,end=\" \")\n"
      ]
    },
    {
      "cell_type": "code",
      "source": [
        "\n",
        "#2. Write a program to print all natural numbers in reverse (from n to 1). –\n",
        "#using for loop\n",
        "a=int(input(\"enter any number\"))\n",
        "for i in range(a,0,-1):\n",
        "  print(i,end=\" \")\n"
      ],
      "metadata": {
        "colab": {
          "base_uri": "https://localhost:8080/"
        },
        "id": "-uIxvo4JKoZr",
        "outputId": "464dfaf1-4818-4a16-815a-2344d5956284"
      },
      "execution_count": null,
      "outputs": [
        {
          "output_type": "stream",
          "name": "stdout",
          "text": [
            "enter any number10\n",
            "10 9 8 7 6 5 4 3 2 1 "
          ]
        }
      ]
    },
    {
      "cell_type": "code",
      "source": [
        "# prompt: 3. Write a program to print all alphabets from a to z. – using for loop\n",
        "\n",
        "#3. Write a program to print all alphabets from a to z. – using\n",
        "for i in range(97,123):\n",
        "  print(chr(i),end=\" \")\n",
        "print(\"\")\n"
      ],
      "metadata": {
        "colab": {
          "base_uri": "https://localhost:8080/"
        },
        "id": "NJlir6hXMIz9",
        "outputId": "3ff35969-5b2c-4054-cbbb-497eae033da6"
      },
      "execution_count": null,
      "outputs": [
        {
          "output_type": "stream",
          "name": "stdout",
          "text": [
            "a b c d e f g h i j k l m n o p q r s t u v w x y z \n"
          ]
        }
      ]
    },
    {
      "cell_type": "code",
      "source": [
        "#4. Write a program to print all even numbers between 1 to 100. – using\n",
        "# for loop\n",
        "\n",
        "for i in range(1,101):\n",
        "  if i%2==0:\n",
        "    print(i,end=\" \")\n"
      ],
      "metadata": {
        "colab": {
          "base_uri": "https://localhost:8080/"
        },
        "id": "4d1AdFMzMqip",
        "outputId": "f5efde47-9800-4cc6-9679-b29966fe5042"
      },
      "execution_count": null,
      "outputs": [
        {
          "output_type": "stream",
          "name": "stdout",
          "text": [
            "2 4 6 8 10 12 14 16 18 20 22 24 26 28 30 32 34 36 38 40 42 44 46 48 50 52 54 56 58 60 62 64 66 68 70 72 74 76 78 80 82 84 86 88 90 92 94 96 98 100 "
          ]
        }
      ]
    },
    {
      "cell_type": "code",
      "source": [
        "#5. Write a program to find the sum of all odd numbers between 1 to n.\n",
        "\n",
        "n=int(input(\"enter any number\"))\n",
        "sum=0\n",
        "for i in range(1,n+1,2):\n",
        "\n",
        "    sum=sum+i\n",
        "print(sum,end=\" \")"
      ],
      "metadata": {
        "id": "KTtTbjxTNvRm",
        "colab": {
          "base_uri": "https://localhost:8080/"
        },
        "outputId": "46990d58-fa0e-4597-f20e-c77f0e487c38"
      },
      "execution_count": null,
      "outputs": [
        {
          "output_type": "stream",
          "name": "stdout",
          "text": [
            "enter any number15\n",
            "64 "
          ]
        }
      ]
    },
    {
      "cell_type": "code",
      "source": [
        "#6. Write a program to count the number of digits in a number.\n",
        "a=int(input(\"enter any number\"))\n",
        "count=0\n",
        "for i in str(a):\n",
        "  count+=1\n",
        "print(count)"
      ],
      "metadata": {
        "colab": {
          "base_uri": "https://localhost:8080/"
        },
        "id": "8miZ5H7VvtPj",
        "outputId": "2f9b1cf5-0a2e-4612-c12b-585898db9405"
      },
      "execution_count": null,
      "outputs": [
        {
          "output_type": "stream",
          "name": "stdout",
          "text": [
            "enter any number1234554321\n",
            "10\n"
          ]
        }
      ]
    },
    {
      "cell_type": "code",
      "source": [
        "\n",
        "# 7. Write a program to calculate the sum of digits of a number.\n",
        "num=int(input(\"enter any number\"))\n",
        "sum=0\n",
        "for i in str(num):\n",
        "  rem=num%10\n",
        "  sum=sum+rem\n",
        "  num=num//10\n",
        "print(sum)\n",
        "\n",
        "\n",
        "\n",
        "\n",
        "\n"
      ],
      "metadata": {
        "colab": {
          "base_uri": "https://localhost:8080/"
        },
        "id": "NOtRO5xswste",
        "outputId": "24dfdf02-e20a-4788-c326-f3c243428f98"
      },
      "execution_count": null,
      "outputs": [
        {
          "output_type": "stream",
          "name": "stdout",
          "text": [
            "enter any number1233\n",
            "9\n"
          ]
        }
      ]
    },
    {
      "cell_type": "code",
      "source": [
        "#Q8 Write a program to find the first and last digit of a number.\n",
        "a=int(input(\"enter any number\"))\n",
        "firstdigit=int(str(a)[0])\n",
        "lastdigit=int(str(a)[-1])\n",
        "print(firstdigit)\n",
        "print(lastdigit)\n",
        "\n",
        "\n"
      ],
      "metadata": {
        "colab": {
          "base_uri": "https://localhost:8080/"
        },
        "id": "f848M4wxzQEr",
        "outputId": "6fa6132e-299e-4f65-f103-585acf6d62dd"
      },
      "execution_count": null,
      "outputs": [
        {
          "output_type": "stream",
          "name": "stdout",
          "text": [
            "enter any number6778\n",
            "6\n",
            "8\n"
          ]
        }
      ]
    },
    {
      "cell_type": "code",
      "source": [
        "#9. Write a program to find the sum of first and last digit of a number.\n",
        "a=int(input(\"enter any number\"))\n",
        "\n",
        "firstdigit=int(str(a)[0])\n",
        "lastdigit=int(str(a)[-1])\n",
        "sum=firstdigit+lastdigit\n",
        "print(sum)\n",
        "\n"
      ],
      "metadata": {
        "id": "IE_tOUqS01yk",
        "colab": {
          "base_uri": "https://localhost:8080/"
        },
        "outputId": "dc6a585f-a7e3-421e-8163-90b4bdf61e37"
      },
      "execution_count": null,
      "outputs": [
        {
          "output_type": "stream",
          "name": "stdout",
          "text": [
            "enter any number565667\n",
            "12\n"
          ]
        }
      ]
    },
    {
      "cell_type": "code",
      "source": [
        "# 10.Write a program to enter a number and print its reverse.\n",
        "a=int(input(\"enter any number\"))\n",
        "for i in range(0,a+1):\n",
        "  rem=a%10\n",
        "  print(rem,end=\"\")\n",
        "  a=a//10\n",
        "\n",
        "print()"
      ],
      "metadata": {
        "id": "Y38sYroE12KK",
        "colab": {
          "base_uri": "https://localhost:8080/",
          "height": 106
        },
        "outputId": "61a60dde-d742-43aa-bd6c-7f156e889eda"
      },
      "execution_count": null,
      "outputs": [
        {
          "output_type": "error",
          "ename": "SyntaxError",
          "evalue": "positional argument follows keyword argument (<ipython-input-24-8632dd32ad74>, line 5)",
          "traceback": [
            "\u001b[0;36m  File \u001b[0;32m\"<ipython-input-24-8632dd32ad74>\"\u001b[0;36m, line \u001b[0;32m5\u001b[0m\n\u001b[0;31m    print(rem,end=\"\",i)\u001b[0m\n\u001b[0m                      ^\u001b[0m\n\u001b[0;31mSyntaxError\u001b[0m\u001b[0;31m:\u001b[0m positional argument follows keyword argument\n"
          ]
        }
      ]
    },
    {
      "cell_type": "code",
      "source": [
        "# 11.Write a program to find the power of a number using for loop\n"
      ],
      "metadata": {
        "id": "Jx7LT4BPqkPY"
      },
      "execution_count": null,
      "outputs": []
    }
  ]
}