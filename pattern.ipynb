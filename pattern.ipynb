{
 "cells": [
  {
   "cell_type": "code",
   "execution_count": 20,
   "id": "b3ab588d-95ee-4325-bdfc-ad5d19bb8cf6",
   "metadata": {},
   "outputs": [
    {
     "name": "stdout",
     "output_type": "stream",
     "text": [
      "person 1\n",
      "good morning=> i: 1 j: 1\n",
      "good morning=> i: 1 j: 2\n",
      "good morning=> i: 1 j: 3\n",
      "good morning=> i: 1 j: 4\n",
      "person 2\n",
      "good morning=> i: 2 j: 1\n",
      "good morning=> i: 2 j: 2\n",
      "good morning=> i: 2 j: 3\n",
      "good morning=> i: 2 j: 4\n",
      "person 3\n",
      "good morning=> i: 3 j: 1\n",
      "good morning=> i: 3 j: 2\n",
      "good morning=> i: 3 j: 3\n",
      "good morning=> i: 3 j: 4\n",
      "person 4\n",
      "good morning=> i: 4 j: 1\n",
      "good morning=> i: 4 j: 2\n",
      "good morning=> i: 4 j: 3\n",
      "good morning=> i: 4 j: 4\n",
      "out side the loop\n"
     ]
    }
   ],
   "source": [
    "for i in range(1,5):\n",
    "    print(\"person\",i)\n",
    "    for j in range(1,5):\n",
    "        print(\"good morning=>\",\"i:\",i,\"j:\",j)\n",
    "  \n",
    "print(\"out side the loop\")"
   ]
  },
  {
   "cell_type": "code",
   "execution_count": 26,
   "id": "addfadea-417c-45a5-bf3d-189c7de66232",
   "metadata": {},
   "outputs": [
    {
     "name": "stdout",
     "output_type": "stream",
     "text": [
      "person 1\n",
      "good morning 1 5\n",
      "good morning 1 4\n",
      "good morning 1 3\n",
      "good morning 1 2\n",
      "good morning 1 1\n",
      "person 2\n",
      "good morning 2 5\n",
      "good morning 2 4\n",
      "good morning 2 3\n",
      "good morning 2 2\n",
      "good morning 2 1\n",
      "person 3\n",
      "good morning 3 5\n",
      "good morning 3 4\n",
      "good morning 3 3\n",
      "good morning 3 2\n",
      "good morning 3 1\n",
      "person 4\n",
      "good morning 4 5\n",
      "good morning 4 4\n",
      "good morning 4 3\n",
      "good morning 4 2\n",
      "good morning 4 1\n"
     ]
    }
   ],
   "source": [
    "for i in range(1,5):\n",
    "    print(\"person\",i)\n",
    "    for j in range(5,0,-1):\n",
    "        print(\"good morning\",i,j)"
   ]
  },
  {
   "cell_type": "code",
   "execution_count": 34,
   "id": "97e54b4e-f5e2-4df0-8ea0-abd290c7e815",
   "metadata": {},
   "outputs": [
    {
     "name": "stdout",
     "output_type": "stream",
     "text": [
      "person 1\n",
      "good morning 1\n",
      "person 2\n",
      "good morning 1\n",
      "good morning 2\n",
      "person 3\n",
      "good morning 1\n",
      "good morning 2\n",
      "good morning 3\n",
      "person 4\n",
      "good morning 1\n",
      "good morning 2\n",
      "good morning 3\n",
      "good morning 4\n"
     ]
    }
   ],
   "source": [
    "for i in range(1,5):\n",
    "    print(\"person\",i)\n",
    "    for j in range(1,i+1):\n",
    "        print(\"good morning\",j)"
   ]
  },
  {
   "cell_type": "code",
   "execution_count": 38,
   "id": "46c80d8d-2bd7-4aa6-aa66-65afa9e21c00",
   "metadata": {},
   "outputs": [
    {
     "name": "stdout",
     "output_type": "stream",
     "text": [
      "person 5\n",
      "good morning 6\n",
      "person 4\n",
      "good morning 6\n",
      "good morning 5\n",
      "person 3\n",
      "good morning 6\n",
      "good morning 5\n",
      "good morning 4\n",
      "person 2\n",
      "good morning 6\n",
      "good morning 5\n",
      "good morning 4\n",
      "good morning 3\n",
      "person 1\n",
      "good morning 6\n",
      "good morning 5\n",
      "good morning 4\n",
      "good morning 3\n",
      "good morning 2\n"
     ]
    }
   ],
   "source": [
    "for i in range(5,0,-1):\n",
    "    print(\"person\",i)\n",
    "    for j in range(6,i,-1):\n",
    "        print(\"good morning\",j)"
   ]
  },
  {
   "cell_type": "code",
   "execution_count": 60,
   "id": "37863c09-e042-414c-b1c9-223be960ade3",
   "metadata": {},
   "outputs": [
    {
     "name": "stdout",
     "output_type": "stream",
     "text": [
      "1\n",
      "2\n",
      "3\n",
      "4\n",
      "5\n",
      "6\n",
      "7\n",
      "8\n",
      "9\n",
      "10\n",
      "2\n",
      "4\n",
      "6\n",
      "8\n",
      "10\n",
      "12\n",
      "14\n",
      "16\n",
      "18\n",
      "20\n",
      "3\n",
      "6\n",
      "9\n",
      "12\n",
      "15\n",
      "18\n",
      "21\n",
      "24\n",
      "27\n",
      "30\n",
      "4\n",
      "8\n",
      "12\n",
      "16\n",
      "20\n",
      "24\n",
      "28\n",
      "32\n",
      "36\n",
      "40\n",
      "5\n",
      "10\n",
      "15\n",
      "20\n",
      "25\n",
      "30\n",
      "35\n",
      "40\n",
      "45\n",
      "50\n",
      "6\n",
      "12\n",
      "18\n",
      "24\n",
      "30\n",
      "36\n",
      "42\n",
      "48\n",
      "54\n",
      "60\n",
      "7\n",
      "14\n",
      "21\n",
      "28\n",
      "35\n",
      "42\n",
      "49\n",
      "56\n",
      "63\n",
      "70\n",
      "8\n",
      "16\n",
      "24\n",
      "32\n",
      "40\n",
      "48\n",
      "56\n",
      "64\n",
      "72\n",
      "80\n",
      "9\n",
      "18\n",
      "27\n",
      "36\n",
      "45\n",
      "54\n",
      "63\n",
      "72\n",
      "81\n",
      "90\n",
      "10\n",
      "20\n",
      "30\n",
      "40\n",
      "50\n",
      "60\n",
      "70\n",
      "80\n",
      "90\n",
      "100\n"
     ]
    }
   ],
   "source": [
    "for i in range(1,11):\n",
    "    \n",
    "    for j in range(1,11):\n",
    "        print(i*j )"
   ]
  },
  {
   "cell_type": "code",
   "execution_count": 68,
   "id": "9fc9df8f-e26b-471a-9be5-767f4abf02f2",
   "metadata": {},
   "outputs": [
    {
     "name": "stdout",
     "output_type": "stream",
     "text": [
      "even number 2\n",
      "2\n",
      "4\n",
      "6\n",
      "8\n",
      "10\n",
      "12\n",
      "14\n",
      "16\n",
      "18\n",
      "20\n",
      "even number 4\n",
      "4\n",
      "8\n",
      "12\n",
      "16\n",
      "20\n",
      "24\n",
      "28\n",
      "32\n",
      "36\n",
      "40\n",
      "even number 6\n",
      "6\n",
      "12\n",
      "18\n",
      "24\n",
      "30\n",
      "36\n",
      "42\n",
      "48\n",
      "54\n",
      "60\n",
      "even number 8\n",
      "8\n",
      "16\n",
      "24\n",
      "32\n",
      "40\n",
      "48\n",
      "56\n",
      "64\n",
      "72\n",
      "80\n",
      "even number 10\n",
      "10\n",
      "20\n",
      "30\n",
      "40\n",
      "50\n",
      "60\n",
      "70\n",
      "80\n",
      "90\n",
      "100\n"
     ]
    }
   ],
   "source": [
    "for i in range(1,11):\n",
    "    if (i%2==0):\n",
    "        print(\"even number\",i)\n",
    "        for j in range(1,11):\n",
    "            print(i*j)\n",
    "    "
   ]
  },
  {
   "cell_type": "code",
   "execution_count": 14,
   "id": "75eba218-5eb1-4ba9-83ff-fee1f450ab37",
   "metadata": {},
   "outputs": [
    {
     "name": "stdout",
     "output_type": "stream",
     "text": [
      "1 2 3 4 \n",
      "1 2 3 4 \n",
      "1 2 3 4 \n"
     ]
    }
   ],
   "source": []
  },
  {
   "cell_type": "code",
   "execution_count": 82,
   "id": "cb3d9079-d183-4705-bf01-30a3b8940ad3",
   "metadata": {},
   "outputs": [
    {
     "name": "stdout",
     "output_type": "stream",
     "text": [
      "not prime 2\n",
      "prime number 3\n",
      "not prime 4\n",
      "prime number 5\n",
      "not prime 6\n",
      "prime number 7\n",
      "not prime 8\n",
      "prime number 9\n",
      "not prime 10\n",
      "prime number 11\n"
     ]
    }
   ],
   "source": [
    "for n in range(2,12):\n",
    "    cond=0\n",
    "    for i in range(1,n):\n",
    "        if(n%2==0):\n",
    "            cond=1\n",
    "            break\n",
    "    if(cond==0):\n",
    "        print(\"prime number\",n)\n",
    "    else:\n",
    "        print(\"not prime\",n)"
   ]
  },
  {
   "cell_type": "code",
   "execution_count": 92,
   "id": "88746dd5-7ceb-434d-87c1-28e177444e07",
   "metadata": {},
   "outputs": [
    {
     "name": "stdout",
     "output_type": "stream",
     "text": [
      "before number 153\n",
      "before number 15\n",
      "before number 1\n",
      "not armstrong 0\n"
     ]
    }
   ],
   "source": [
    "n=153\n",
    "total=0\n",
    "while(n>0):\n",
    "    print(\"before number\",n)\n",
    "    rem=n%10\n",
    "    n=n//10\n",
    "    total=total+rem**3\n",
    "\n",
    "if(n==total):\n",
    "    print(\"Armstrong\",n)\n",
    "else:\n",
    "    print(\"not armstrong\",n)"
   ]
  },
  {
   "cell_type": "code",
   "execution_count": 96,
   "id": "3ea93762-83b3-4f0c-b9e9-5ef5bf958d8f",
   "metadata": {},
   "outputs": [
    {
     "name": "stdout",
     "output_type": "stream",
     "text": [
      "****\n",
      "****\n",
      "****\n",
      "****\n"
     ]
    }
   ],
   "source": [
    "for i in range(1,5):\n",
    "    for j in range(1,5):\n",
    "        print(\"*\",end=\"\")\n",
    "    print()\n"
   ]
  },
  {
   "cell_type": "code",
   "execution_count": 100,
   "id": "4f7d9636-8bc8-4d8a-a5bc-c9d4acdc7a06",
   "metadata": {},
   "outputs": [
    {
     "name": "stdout",
     "output_type": "stream",
     "text": [
      "1 1 1 1 \n",
      "2 2 2 2 \n"
     ]
    }
   ],
   "source": [
    "for i in range(1,3):\n",
    "    for j in range(1,5):\n",
    "        print(i,end=\" \")\n",
    "    print()"
   ]
  },
  {
   "cell_type": "code",
   "execution_count": 102,
   "id": "bbba6f49-8dce-4497-a36a-c5f2015662fc",
   "metadata": {},
   "outputs": [
    {
     "name": "stdout",
     "output_type": "stream",
     "text": [
      "3 3 3 \n",
      "4 4 4 \n",
      "5 5 5 \n"
     ]
    }
   ],
   "source": [
    "for i in range(3,6):\n",
    "    for j in range(1,4):\n",
    "        print(i,end=\" \")\n",
    "    print()\n"
   ]
  },
  {
   "cell_type": "code",
   "execution_count": 104,
   "id": "258b53c7-7532-40b0-9edb-3519d204b56d",
   "metadata": {},
   "outputs": [
    {
     "name": "stdout",
     "output_type": "stream",
     "text": [
      "5 5 5 \n",
      "4 4 4 \n",
      "3 3 3 \n",
      "2 2 2 \n"
     ]
    }
   ],
   "source": [
    "for i in range(5,1,-1):\n",
    "    for j in range(1,4):\n",
    "        print(i,end=\" \")\n",
    "    print( )"
   ]
  },
  {
   "cell_type": "code",
   "execution_count": 107,
   "id": "eddab034-93b5-4923-97c0-88cb4f02a7f7",
   "metadata": {},
   "outputs": [
    {
     "name": "stdout",
     "output_type": "stream",
     "text": [
      "1 2 3 \n",
      "1 2 3 \n",
      "1 2 3 \n"
     ]
    }
   ],
   "source": [
    "for i in range(1,4):\n",
    "    for j in range(1,4):\n",
    "        print(j,end=\" \")\n",
    "    print()"
   ]
  },
  {
   "cell_type": "code",
   "execution_count": 115,
   "id": "b15f7ea6-e506-40d8-aacb-efa83726cdc5",
   "metadata": {},
   "outputs": [
    {
     "name": "stdout",
     "output_type": "stream",
     "text": [
      "1 2 3 4 \n",
      "1 2 3 4 \n",
      "1 2 3 4 \n",
      "1 2 3 4 \n"
     ]
    }
   ],
   "source": [
    "for i in range(1,5):\n",
    "    for j in range(1,5):\n",
    "        print(j,end=\" \")\n",
    "    print()"
   ]
  },
  {
   "cell_type": "code",
   "execution_count": 135,
   "id": "36dd7245-e574-4f74-b32c-ebaaa815a2a9",
   "metadata": {},
   "outputs": [
    {
     "name": "stdout",
     "output_type": "stream",
     "text": [
      "1 2 3 4 \n",
      "5 6 7 8 \n",
      "9 10 11 12 \n"
     ]
    }
   ],
   "source": [
    "a=1\n",
    "for i in range(1,4):\n",
    "  \n",
    "    for j in range(1,5):\n",
    "    \n",
    "        print(a,end=\" \")\n",
    "        a+=1\n",
    "    print( )"
   ]
  },
  {
   "cell_type": "code",
   "execution_count": 157,
   "id": "33fa8ccb-b676-46d8-8e2c-89dfa93a19cc",
   "metadata": {},
   "outputs": [
    {
     "name": "stdout",
     "output_type": "stream",
     "text": [
      "1 2 3 \n",
      "1 2 3 \n",
      "1 2 3 \n"
     ]
    }
   ],
   "source": [
    "\n",
    "for i in range(1,4):\n",
    "    a=65\n",
    "    for j in range(1,4):\n",
    "        print(j,end=\" \")\n",
    "       \n",
    "    print()"
   ]
  },
  {
   "cell_type": "code",
   "execution_count": 8,
   "id": "bb75b44d-00ec-4c96-8023-90496a634024",
   "metadata": {},
   "outputs": [
    {
     "name": "stdout",
     "output_type": "stream",
     "text": [
      "A B C \n",
      "D E F \n",
      "G H I \n"
     ]
    }
   ],
   "source": [
    "a=65\n",
    "for i in range(1,4):\n",
    "    for j in range(1,4):\n",
    "        print(chr(a),end=\" \")\n",
    "        a+=1\n",
    "    print( )\n",
    "    "
   ]
  },
  {
   "cell_type": "code",
   "execution_count": 10,
   "id": "6d9af5dd-6e14-4357-b035-33dc16a4aa8b",
   "metadata": {},
   "outputs": [
    {
     "name": "stdout",
     "output_type": "stream",
     "text": [
      "A B C \n",
      "A B C \n",
      "A B C \n"
     ]
    }
   ],
   "source": [
    "for i in range(65,68):\n",
    "    for j in range(65,68):\n",
    "        print(chr(j),end=\" \")\n",
    "    print( )"
   ]
  },
  {
   "cell_type": "code",
   "execution_count": 14,
   "id": "c4a8f98c-a5fc-4d76-9c60-fbbda5eba3d5",
   "metadata": {},
   "outputs": [
    {
     "name": "stdout",
     "output_type": "stream",
     "text": [
      "* * * * \n",
      "* * * \n",
      "* * \n",
      "* \n"
     ]
    }
   ],
   "source": [
    "for i in range(4,0,-1):\n",
    "    for j in range(i,0,-1):\n",
    "        print(\"*\",end=\" \")\n",
    "    print( )"
   ]
  },
  {
   "cell_type": "code",
   "execution_count": 16,
   "id": "436c712a-88a7-48e8-ac58-9e66ae2df4d7",
   "metadata": {},
   "outputs": [
    {
     "name": "stdout",
     "output_type": "stream",
     "text": [
      "10 \n",
      "11 12 \n",
      "13 14 15 \n"
     ]
    }
   ],
   "source": [
    "a=10\n",
    "for i in range(1,4):\n",
    "    for j in range(1,i+1):\n",
    "        print(a,end=\" \")\n",
    "        a+=1\n",
    "    print( )"
   ]
  },
  {
   "cell_type": "code",
   "execution_count": 18,
   "id": "c1346e2a-c4aa-4854-87b5-7060c8923e0f",
   "metadata": {},
   "outputs": [
    {
     "name": "stdout",
     "output_type": "stream",
     "text": [
      "10 \n",
      "10 11 \n",
      "10 11 12 \n",
      "10 11 12 13 \n"
     ]
    }
   ],
   "source": [
    "\n",
    "for i in range(1,5):\n",
    "    a=10\n",
    "    for j in range(1,i+1):\n",
    "        print(a,end=\" \")\n",
    "        a+=1\n",
    "    print( )"
   ]
  },
  {
   "cell_type": "code",
   "execution_count": 36,
   "id": "fdcbe200-67f4-447d-a9d0-77d9451fcd30",
   "metadata": {},
   "outputs": [
    {
     "name": "stdout",
     "output_type": "stream",
     "text": [
      "1 \n",
      "1 2 \n",
      "1 2 1 \n",
      "1 2 1 2 \n",
      "1 2 1 2 1 \n"
     ]
    }
   ],
   "source": [
    "for i in range(1,6):\n",
    "    for j in range(1,i+1):\n",
    "        if j%2 ==1:\n",
    "            print(\"1\",end=\" \")\n",
    "        else:\n",
    "            print(\"2\",end= \" \")\n",
    "    print( )"
   ]
  },
  {
   "cell_type": "code",
   "execution_count": 38,
   "id": "3f68a3d0-1512-486e-a824-4c109a32ab78",
   "metadata": {},
   "outputs": [
    {
     "name": "stdout",
     "output_type": "stream",
     "text": [
      "1 2 3 4 \n",
      "1 2 3 \n",
      "1 2 \n",
      "1 \n"
     ]
    }
   ],
   "source": [
    "for i in range(4,0,-1):\n",
    "    for j in range(1,i+1):\n",
    "        print(j,end=\" \")\n",
    "    print( )"
   ]
  },
  {
   "cell_type": "code",
   "execution_count": 42,
   "id": "866916ee-9514-426c-bd03-d083db0f12ba",
   "metadata": {},
   "outputs": [
    {
     "name": "stdout",
     "output_type": "stream",
     "text": [
      "A \n",
      "A B \n",
      "A B C \n",
      "A B C D \n"
     ]
    }
   ],
   "source": [
    "\n",
    "for i in range(1,5):\n",
    "    a=65\n",
    "    for j in range(1,i+1):\n",
    "        print(chr(a),end=\" \")\n",
    "        a+=1\n",
    "    print( )"
   ]
  },
  {
   "cell_type": "code",
   "execution_count": 52,
   "id": "865bf1d0-e8af-46bb-9a8e-1dbef280cdb8",
   "metadata": {},
   "outputs": [
    {
     "name": "stdout",
     "output_type": "stream",
     "text": [
      "F \n",
      "H J \n",
      "L N P \n",
      "R T V X \n"
     ]
    }
   ],
   "source": [
    "a=70\n",
    "for i in range(1,5):\n",
    "    for j in range(1,i+1):\n",
    "        print(chr(a),end=\" \")\n",
    "        a+=2\n",
    "    print( )"
   ]
  },
  {
   "cell_type": "code",
   "execution_count": 60,
   "id": "0c878c05-b2a0-45fd-9350-5e3187d4a184",
   "metadata": {},
   "outputs": [
    {
     "name": "stdout",
     "output_type": "stream",
     "text": [
      "D \n",
      "D C \n",
      "D C B \n",
      "D C B A \n"
     ]
    }
   ],
   "source": [
    "\n",
    "for i in range(1,5):\n",
    "    a=68\n",
    "    for j in range(1,i+1):\n",
    "        print(chr(a),end=\" \")\n",
    "        a-=1\n",
    "    print( )"
   ]
  },
  {
   "cell_type": "code",
   "execution_count": 8,
   "id": "c8933ace-5921-4047-b1d4-d11dd249edd8",
   "metadata": {},
   "outputs": [
    {
     "name": "stdout",
     "output_type": "stream",
     "text": [
      "D C B A \n",
      "D C B \n",
      "D C \n",
      "D \n"
     ]
    }
   ],
   "source": [
    "\n",
    "for i in range(4,0,-1):\n",
    "    a=68\n",
    "    for j in range(i,0,-1):\n",
    "        print(chr(a),end=\" \")\n",
    "        a-=1\n",
    "    print()"
   ]
  },
  {
   "cell_type": "raw",
   "id": "4ff59a8f-9f93-4f3b-b63f-c7d49aa88650",
   "metadata": {},
   "source": []
  },
  {
   "cell_type": "code",
   "execution_count": 21,
   "id": "566a48d4-b7e0-41ea-a75f-79c32b6bf50b",
   "metadata": {},
   "outputs": [
    {
     "name": "stdout",
     "output_type": "stream",
     "text": [
      "* * * * * \n",
      "- * * * * \n",
      "- - * * * \n",
      "- - - * * \n",
      "- - - - * \n"
     ]
    }
   ],
   "source": [
    "for i in range(5,0,-1):\n",
    "    for j in range(5,i,-1):\n",
    "        print(\"-\",end=\" \")\n",
    "    for k in range(i,0,-1):\n",
    "        print(\"*\",end=\" \")\n",
    "    print()"
   ]
  },
  {
   "cell_type": "code",
   "execution_count": 23,
   "id": "8de20528-ee77-4838-bf51-d11504a39a3f",
   "metadata": {},
   "outputs": [
    {
     "name": "stdout",
     "output_type": "stream",
     "text": [
      "* \n",
      "* * \n",
      "* * * \n",
      "* * * * \n",
      "* * * * * \n"
     ]
    }
   ],
   "source": [
    "for i in range(1,6):\n",
    "    for j in range(1,i+1):\n",
    "        print(\"*\",end=\" \")\n",
    "    print( )"
   ]
  },
  {
   "cell_type": "code",
   "execution_count": 25,
   "id": "fb42be14-904c-4034-8167-5d59f243743a",
   "metadata": {},
   "outputs": [
    {
     "name": "stdout",
     "output_type": "stream",
     "text": [
      "1 \n",
      "1 2 \n",
      "1 2 3 \n",
      "1 2 3 4 \n"
     ]
    }
   ],
   "source": [
    "for i in range(1,5):\n",
    "    for j in range(1,i+1):\n",
    "        print(j,end=\" \")\n",
    "    print( )"
   ]
  },
  {
   "cell_type": "code",
   "execution_count": 27,
   "id": "6f154e44-61aa-45fa-a918-2c46d1c36b2a",
   "metadata": {},
   "outputs": [
    {
     "name": "stdout",
     "output_type": "stream",
     "text": [
      "1 \n",
      "2 3 \n",
      "4 5 6 \n",
      "7 8 9 10 \n"
     ]
    }
   ],
   "source": [
    "a=1\n",
    "for i in range(1,5):\n",
    "    for j in range(1,i+1):\n",
    "        print(a,end=\" \")\n",
    "        a+=1\n",
    "    print( )"
   ]
  },
  {
   "cell_type": "code",
   "execution_count": 29,
   "id": "a7a349e7-5b70-48c8-a167-32d295e0dfcd",
   "metadata": {},
   "outputs": [
    {
     "name": "stdout",
     "output_type": "stream",
     "text": [
      "* * * * * \n",
      "* * * * \n",
      "* * * \n",
      "* * \n",
      "* \n"
     ]
    }
   ],
   "source": [
    "for i in range(5,0,-1):\n",
    "    for j in range(i,0,-1):\n",
    "        print(\"*\",end=\" \")\n",
    "    print( )"
   ]
  },
  {
   "cell_type": "code",
   "execution_count": 37,
   "id": "3bffa00b-576e-4779-860d-60137a39cef2",
   "metadata": {},
   "outputs": [
    {
     "name": "stdout",
     "output_type": "stream",
     "text": [
      "A B C D \n",
      "A B C \n",
      "A B \n",
      "A \n"
     ]
    }
   ],
   "source": [
    "\n",
    "for i in range(4,0,-1):\n",
    "    a=65\n",
    "    for j in range(i,0,-1):\n",
    "        print(chr(a),end=\" \")\n",
    "        a+=1\n",
    "    print( )"
   ]
  },
  {
   "cell_type": "code",
   "execution_count": 39,
   "id": "d633e99e-e321-4b3b-a1da-7a2e1d47390e",
   "metadata": {},
   "outputs": [
    {
     "name": "stdout",
     "output_type": "stream",
     "text": [
      "1 \n",
      "1 2 \n",
      "1 2 3 \n",
      "1 2 3 4 \n",
      "1 2 3 4 5 \n"
     ]
    }
   ],
   "source": [
    "for  i in range(1,6):\n",
    "    for j in range(1,i+1):\n",
    "        print(j,end=\" \")\n",
    "    print( )"
   ]
  },
  {
   "cell_type": "code",
   "execution_count": 47,
   "id": "233288df-164b-4aae-8b02-1149dbfb4405",
   "metadata": {},
   "outputs": [
    {
     "name": "stdout",
     "output_type": "stream",
     "text": [
      "4 3 2 1 \n",
      "4 3 2 \n",
      "4 3 \n",
      "4 \n"
     ]
    }
   ],
   "source": [
    "\n",
    "for i in range(4,0,-1):\n",
    "    a=4\n",
    "    for j in range(i,0,-1):\n",
    "        print(a,end=\" \")\n",
    "        a-=1\n",
    "    print()"
   ]
  },
  {
   "cell_type": "code",
   "execution_count": 69,
   "id": "feb6d1cf-8191-4138-86c9-1f41a8ef651e",
   "metadata": {},
   "outputs": [
    {
     "name": "stdout",
     "output_type": "stream",
     "text": [
      "1 2 3 4 5 \n",
      "1 2 3 4 \n",
      "1 2 3 \n",
      "1 2 \n",
      "1 \n"
     ]
    }
   ],
   "source": [
    "for i in range(5,0,-1):\n",
    "    a=1\n",
    "    for j in range(i,0,-1):\n",
    "        print(a,end=\" \")\n",
    "        a+=1\n",
    "    print( )"
   ]
  },
  {
   "cell_type": "code",
   "execution_count": 75,
   "id": "e39d3d9c-a2dc-493d-8813-e9a7e6910ea8",
   "metadata": {},
   "outputs": [
    {
     "name": "stdout",
     "output_type": "stream",
     "text": [
      "F E D C B A \n",
      "F E D C B \n",
      "F E D C \n",
      "F E D \n",
      "F E \n",
      "F \n"
     ]
    }
   ],
   "source": [
    "for i in range(6,0,-1):\n",
    "    a=70\n",
    "    for j in range(i,0,-1):\n",
    "        print(chr(a),end=\" \")\n",
    "        a-=1\n",
    "    print()"
   ]
  },
  {
   "cell_type": "code",
   "execution_count": 19,
   "id": "d07a3974-609e-4c3f-8cbe-f7cc8f2fb8e4",
   "metadata": {},
   "outputs": [
    {
     "name": "stdout",
     "output_type": "stream",
     "text": [
      "* * * * * \n",
      "* * * * \n",
      "* * * \n"
     ]
    }
   ],
   "source": [
    "for i in range(5,2,-1):\n",
    "    for j in range(1,i+1):\n",
    "        print(\"*\",end=\" \")\n",
    "    print( )"
   ]
  },
  {
   "cell_type": "code",
   "execution_count": 23,
   "id": "f0674ced-73c5-4ede-9712-6ba0dd8327bb",
   "metadata": {},
   "outputs": [
    {
     "name": "stdout",
     "output_type": "stream",
     "text": [
      "* * * * * \n",
      "* * * \n",
      "* \n"
     ]
    }
   ],
   "source": [
    "for i in range(5,0,-2):\n",
    "    for j in range(1,i+1):\n",
    "        print(\"*\",end=\" \")\n",
    "    print( )"
   ]
  },
  {
   "cell_type": "code",
   "execution_count": 25,
   "id": "a198cef7-cd8c-4c23-a12e-327f31ef38da",
   "metadata": {},
   "outputs": [
    {
     "name": "stdout",
     "output_type": "stream",
     "text": [
      "* \n",
      "* * * \n",
      "* * * * * \n"
     ]
    }
   ],
   "source": [
    "for i in range(1,6,2):\n",
    "    for j in range(1,i+1):\n",
    "        print(\"*\",end=\" \")\n",
    "    print( )"
   ]
  },
  {
   "cell_type": "code",
   "execution_count": 27,
   "id": "63ffaf38-cfe4-4ee4-a7ae-4c803ca90268",
   "metadata": {},
   "outputs": [
    {
     "name": "stdout",
     "output_type": "stream",
     "text": [
      "1 \n",
      "3 3 3 \n",
      "5 5 5 5 5 \n"
     ]
    }
   ],
   "source": [
    "for i in range(1,6,2):\n",
    "    for j in range(1,i+1):\n",
    "        print(i,end=\" \")\n",
    "    print( )"
   ]
  },
  {
   "cell_type": "code",
   "execution_count": 49,
   "id": "d6e9be4e-5e63-4b42-bee8-5ecf6a871581",
   "metadata": {},
   "outputs": [
    {
     "name": "stdout",
     "output_type": "stream",
     "text": [
      "5 \n",
      "4 3 \n"
     ]
    }
   ],
   "source": [
    "a=5\n",
    "for i in range(1,3):\n",
    "    for j in range(1,i+1):\n",
    "        print(a,end=\" \")\n",
    "        a-=1\n",
    "    print( )"
   ]
  },
  {
   "cell_type": "code",
   "execution_count": null,
   "id": "5006c150-465d-40f3-8a54-db386e595397",
   "metadata": {},
   "outputs": [],
   "source": []
  }
 ],
 "metadata": {
  "kernelspec": {
   "display_name": "Python [conda env:base] *",
   "language": "python",
   "name": "conda-base-py"
  },
  "language_info": {
   "codemirror_mode": {
    "name": "ipython",
    "version": 3
   },
   "file_extension": ".py",
   "mimetype": "text/x-python",
   "name": "python",
   "nbconvert_exporter": "python",
   "pygments_lexer": "ipython3",
   "version": "3.12.7"
  }
 },
 "nbformat": 4,
 "nbformat_minor": 5
}
