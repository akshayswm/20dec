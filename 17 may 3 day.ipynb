{
 "cells": [
  {
   "cell_type": "code",
   "execution_count": 1,
   "id": "14d6a53d-9de6-40eb-ad56-7832218d6022",
   "metadata": {},
   "outputs": [
    {
     "name": "stdout",
     "output_type": "stream",
     "text": [
      "akshay\n"
     ]
    }
   ],
   "source": [
    "#call by value and call by reference"
   ]
  },
  {
   "cell_type": "code",
   "execution_count": 3,
   "id": "bd66949e-5919-4308-ae8f-675244ae2d0a",
   "metadata": {},
   "outputs": [],
   "source": [
    "# call by object reference\n"
   ]
  },
  {
   "cell_type": "code",
   "execution_count": 5,
   "id": "e1a358a3-5c0f-42b9-993a-1c2bd096eb19",
   "metadata": {},
   "outputs": [],
   "source": [
    "#mutable=>dictionary,list,set"
   ]
  },
  {
   "cell_type": "code",
   "execution_count": 7,
   "id": "6a679d9e-60d8-41f5-8347-848599e8dc06",
   "metadata": {},
   "outputs": [],
   "source": [
    "#Immutable=>number,string,tuple,boolean\n"
   ]
  },
  {
   "cell_type": "code",
   "execution_count": 15,
   "id": "956ca07e-9913-4b4b-a80b-a152b5f46453",
   "metadata": {},
   "outputs": [
    {
     "name": "stdout",
     "output_type": "stream",
     "text": [
      "2343791433968 2343791439856\n"
     ]
    }
   ],
   "source": [
    "a=257\n",
    "x=257\n",
    "print(id(a),id(x))"
   ]
  },
  {
   "cell_type": "code",
   "execution_count": 34,
   "id": "9bdd9c88-8cb4-41d5-ba37-3a5a21e93b0e",
   "metadata": {},
   "outputs": [
    {
     "name": "stdout",
     "output_type": "stream",
     "text": [
      "0\n",
      "1\n",
      "2\n",
      "3\n",
      "4\n",
      "5\n",
      "6\n",
      "7\n",
      "8\n",
      "9\n"
     ]
    }
   ],
   "source": [
    "### loops=> repeatitive task\n",
    "## for loop\n",
    "a=10\n",
    "for i in range(0,a):\n",
    "    print(i)"
   ]
  },
  {
   "cell_type": "code",
   "execution_count": 4,
   "id": "006be04b-8cf6-4d3a-a3cc-9e1ca422ffe3",
   "metadata": {},
   "outputs": [
    {
     "name": "stdout",
     "output_type": "stream",
     "text": [
      "akshay 8\n",
      "akshay 7\n",
      "akshay 6\n",
      "akshay 5\n",
      "akshay 4\n"
     ]
    }
   ],
   "source": [
    "for i in range(8,3,-1):\n",
    "    print(\"akshay\",i)\n",
    "    "
   ]
  },
  {
   "cell_type": "code",
   "execution_count": 9,
   "id": "3bdab0a7-5422-46ca-a778-b1051d7194be",
   "metadata": {},
   "outputs": [
    {
     "name": "stdout",
     "output_type": "stream",
     "text": [
      "hey 10\n",
      "hey 11\n",
      "hey 12\n",
      "hey 13\n",
      "hey 14\n",
      "hey 15\n",
      "hey 16\n",
      "hey 17\n",
      "hey 18\n",
      "hey 19\n"
     ]
    }
   ],
   "source": [
    "for i in range(10,21):\n",
    "    print(\"hey\",i)"
   ]
  },
  {
   "cell_type": "code",
   "execution_count": 11,
   "id": "1134fb80-93ce-4e9a-8ec8-eebca47632a3",
   "metadata": {},
   "outputs": [
    {
     "name": "stdout",
     "output_type": "stream",
     "text": [
      "hay 20\n",
      "hay 19\n",
      "hay 18\n",
      "hay 17\n",
      "hay 16\n",
      "hay 15\n",
      "hay 14\n",
      "hay 13\n",
      "hay 12\n",
      "hay 11\n",
      "hay 10\n"
     ]
    }
   ],
   "source": [
    "for i in range(20,9,-1):\n",
    "    print(\"hay\",i)"
   ]
  },
  {
   "cell_type": "code",
   "execution_count": 29,
   "id": "cd088622-0994-455d-ae72-84767687bdab",
   "metadata": {},
   "outputs": [
    {
     "name": "stdout",
     "output_type": "stream",
     "text": [
      "both not divisible by 2 and 4\n",
      "both not divisible by 2 and 4\n",
      "4 both divisible by 2 and 4\n",
      "both not divisible by 2 and 4\n",
      "both not divisible by 2 and 4\n",
      "both not divisible by 2 and 4\n",
      "8 both divisible by 2 and 4\n",
      "both not divisible by 2 and 4\n",
      "both not divisible by 2 and 4\n",
      "both not divisible by 2 and 4\n",
      "12 both divisible by 2 and 4\n",
      "both not divisible by 2 and 4\n",
      "both not divisible by 2 and 4\n",
      "both not divisible by 2 and 4\n",
      "16 both divisible by 2 and 4\n",
      "both not divisible by 2 and 4\n",
      "both not divisible by 2 and 4\n",
      "both not divisible by 2 and 4\n",
      "20 both divisible by 2 and 4\n",
      "both not divisible by 2 and 4\n",
      "both not divisible by 2 and 4\n",
      "both not divisible by 2 and 4\n",
      "24 both divisible by 2 and 4\n",
      "both not divisible by 2 and 4\n",
      "both not divisible by 2 and 4\n",
      "both not divisible by 2 and 4\n",
      "28 both divisible by 2 and 4\n",
      "both not divisible by 2 and 4\n",
      "both not divisible by 2 and 4\n",
      "both not divisible by 2 and 4\n",
      "32 both divisible by 2 and 4\n",
      "both not divisible by 2 and 4\n",
      "both not divisible by 2 and 4\n",
      "both not divisible by 2 and 4\n",
      "36 both divisible by 2 and 4\n",
      "both not divisible by 2 and 4\n",
      "both not divisible by 2 and 4\n",
      "both not divisible by 2 and 4\n",
      "40 both divisible by 2 and 4\n",
      "both not divisible by 2 and 4\n",
      "both not divisible by 2 and 4\n",
      "both not divisible by 2 and 4\n",
      "44 both divisible by 2 and 4\n",
      "both not divisible by 2 and 4\n",
      "both not divisible by 2 and 4\n",
      "both not divisible by 2 and 4\n",
      "48 both divisible by 2 and 4\n",
      "both not divisible by 2 and 4\n",
      "both not divisible by 2 and 4\n"
     ]
    }
   ],
   "source": [
    "for x in range(2,51):\n",
    "    if(x%2==0 and x%4==0):\n",
    "        print(x            ,\"both divisible by 2 and 4\")\n",
    "    else:\n",
    "        print(\"both not divisible by 2 and 4\")"
   ]
  },
  {
   "cell_type": "code",
   "execution_count": 51,
   "id": "6f365f2b-89c2-4fda-8c5f-c7d6f8a4abac",
   "metadata": {},
   "outputs": [
    {
     "name": "stdout",
     "output_type": "stream",
     "text": [
      "35\n"
     ]
    }
   ],
   "source": [
    " sum=0\n",
    "for i in range(2,9):\n",
    "    \n",
    "    sum=sum+i\n",
    "print(sum)"
   ]
  },
  {
   "cell_type": "code",
   "execution_count": 63,
   "id": "17970b9a-7144-47cf-a479-28d83eda0bbb",
   "metadata": {},
   "outputs": [
    {
     "name": "stdout",
     "output_type": "stream",
     "text": [
      "90 90\n",
      "179 89\n",
      "267 88\n",
      "354 87\n",
      "440 86\n",
      "525 85\n",
      "609 84\n",
      "692 83\n"
     ]
    }
   ],
   "source": [
    "sum=0\n",
    "for i in range(90,82,-1):\n",
    "    sum =sum+i\n",
    "    print(sum,i)"
   ]
  },
  {
   "cell_type": "code",
   "execution_count": 67,
   "id": "1b105a48-b6d0-4aac-b5f7-8daafabaf9c9",
   "metadata": {},
   "outputs": [
    {
     "name": "stdout",
     "output_type": "stream",
     "text": [
      "15 15\n",
      "32 17\n",
      "51 19\n",
      "72 21\n",
      "95 23\n",
      "120 25\n",
      "147 27\n",
      "176 29\n",
      "207 31\n",
      "240 33\n",
      "275 35\n",
      "312 37\n",
      "351 39\n",
      "392 41\n",
      "435 43\n",
      "480 45\n"
     ]
    }
   ],
   "source": [
    "sum=0\n",
    "for i in range(15,46):\n",
    "    if(i%2!=0):\n",
    "        sum=sum+i\n",
    "        print(sum,i)"
   ]
  },
  {
   "cell_type": "code",
   "execution_count": 73,
   "id": "466048e4-3045-4884-a9c4-dc11aff37a5d",
   "metadata": {},
   "outputs": [
    {
     "name": "stdout",
     "output_type": "stream",
     "text": [
      "6 1 6\n",
      "18 2 12\n",
      "36 3 18\n",
      "60 4 24\n",
      "90 5 30\n",
      "126 6 36\n",
      "168 7 42\n",
      "216 8 48\n",
      "270 9 54\n",
      "330 10 60\n",
      "396 11 66\n",
      "468 12 72\n",
      "546 13 78\n",
      "630 14 84\n",
      "720 15 90\n"
     ]
    }
   ],
   "source": [
    "amount=0\n",
    "count=0\n",
    "for i in range(6,95):\n",
    "    if(i%6==0):\n",
    "        amount=amount+i\n",
    "        count=count+1\n",
    "        print(amount,count,i)"
   ]
  },
  {
   "cell_type": "code",
   "execution_count": 85,
   "id": "41588581-1212-4d90-9639-71969c26ef79",
   "metadata": {},
   "outputs": [
    {
     "name": "stdout",
     "output_type": "stream",
     "text": [
      "0 s\n",
      "1 a\n",
      "2 w\n",
      "3 a\n",
      "4 i\n",
      "5  \n",
      "6 m\n",
      "7 a\n",
      "8 d\n",
      "9 h\n",
      "10 o\n",
      "11 p\n",
      "12 u\n",
      "13 r\n"
     ]
    }
   ],
   "source": [
    "city=\"sawai madhopur\"\n",
    "for i in range(0,len(city)):\n",
    "    print(i,city[i])"
   ]
  },
  {
   "cell_type": "code",
   "execution_count": 91,
   "id": "77eb689c-dd23-4fd4-a13b-4d1b774f1754",
   "metadata": {},
   "outputs": [
    {
     "name": "stdout",
     "output_type": "stream",
     "text": [
      "con\n",
      "vowal\n",
      "con\n",
      "vowal\n",
      "vowal\n",
      "con\n",
      "con\n",
      "vowal\n",
      "con\n",
      "con\n",
      "vowal\n",
      "con\n",
      "vowal\n",
      "con\n"
     ]
    }
   ],
   "source": [
    "city=\"sawai madhopur\"\n",
    "for i in range(0,len(city)):\n",
    "    if(city[i]=='a' or city[i]==\"e\" or city[i]==\"i\" or city[i]==\"o\" or city[i]==\"u\") :\n",
    "        print(\"vowal\",i)\n",
    "    else:\n",
    "        print(\"con\")\n",
    "        "
   ]
  },
  {
   "cell_type": "code",
   "execution_count": null,
   "id": "76c0fc42-d273-4ae9-bfe1-cc6fe8782107",
   "metadata": {},
   "outputs": [],
   "source": []
  }
 ],
 "metadata": {
  "kernelspec": {
   "display_name": "Python [conda env:base] *",
   "language": "python",
   "name": "conda-base-py"
  },
  "language_info": {
   "codemirror_mode": {
    "name": "ipython",
    "version": 3
   },
   "file_extension": ".py",
   "mimetype": "text/x-python",
   "name": "python",
   "nbconvert_exporter": "python",
   "pygments_lexer": "ipython3",
   "version": "3.12.7"
  }
 },
 "nbformat": 4,
 "nbformat_minor": 5
}
