{
 "cells": [
  {
   "cell_type": "code",
   "execution_count": 4,
   "id": "72dda33f-b0f7-47d5-9da9-efa8513adc3d",
   "metadata": {},
   "outputs": [],
   "source": [
    "# call by value  ==> \n"
   ]
  },
  {
   "cell_type": "code",
   "execution_count": 8,
   "id": "1c44aba2-d8da-482b-9024-76f9308bc3ab",
   "metadata": {},
   "outputs": [],
   "source": [
    "# call by reference (memory address) ==> call of object reference(in python)\n"
   ]
  },
  {
   "cell_type": "code",
   "execution_count": 21,
   "id": "54a0d548-cfa9-4654-a598-8501115a651b",
   "metadata": {},
   "outputs": [
    {
     "name": "stdout",
     "output_type": "stream",
     "text": [
      "1858296803056 1858296803056\n"
     ]
    }
   ],
   "source": [
    "a=10000\n",
    "\n",
    "z=a\n",
    "print(id(a),id(z))"
   ]
  },
  {
   "cell_type": "code",
   "execution_count": null,
   "id": "c1496189-a55c-497b-bbf1-0532ee7f3404",
   "metadata": {},
   "outputs": [],
   "source": [
    "# data type\n",
    "#(a). mutable=>dict,set ,list\n",
    "#(b). immutable=>int,float,string,tuple,boolean"
   ]
  },
  {
   "cell_type": "code",
   "execution_count": 31,
   "id": "ec665457-4357-4035-a9f4-b46687352769",
   "metadata": {},
   "outputs": [
    {
     "name": "stdout",
     "output_type": "stream",
     "text": [
      "akshay 1 akshay 2 akshay 3 akshay 4 akshay 5 "
     ]
    }
   ],
   "source": [
    "# loop==>repeatitive task\n",
    "# for loop, while loop\n",
    "# for loop( i=0,i<condition,i++)\n",
    "for i in range(1,6):\n",
    "    print(\"akshay\",i,end=\" \")"
   ]
  },
  {
   "cell_type": "code",
   "execution_count": 43,
   "id": "7d05a4c3-1866-44c4-8a17-55d8a0bb308c",
   "metadata": {},
   "outputs": [
    {
     "name": "stdout",
     "output_type": "stream",
     "text": [
      "even 2\n",
      "odd 3\n",
      "even 4\n",
      "odd 5\n",
      "even 6\n",
      "odd 7\n",
      "even 8\n",
      "odd 9\n",
      "even 10\n"
     ]
    }
   ],
   "source": [
    "for x in range(2,11):\n",
    "    if(x%2==0):\n",
    "        print(\"even\",x)\n",
    "    else:\n",
    "        print(\"odd\",x)"
   ]
  },
  {
   "cell_type": "code",
   "execution_count": 49,
   "id": "877fef96-599a-4584-a249-e768d848269f",
   "metadata": {},
   "outputs": [
    {
     "name": "stdout",
     "output_type": "stream",
     "text": [
      "divisible by 2 and 5 70\n",
      "not 71\n",
      "divisible by 2 and 5 72\n",
      "not 73\n",
      "divisible by 2 and 5 74\n",
      "divisible by 2 and 5 75\n",
      "divisible by 2 and 5 76\n",
      "not 77\n",
      "divisible by 2 and 5 78\n",
      "not 79\n",
      "divisible by 2 and 5 80\n"
     ]
    }
   ],
   "source": [
    "for x  in range(70,81):\n",
    "    if(x%2==0 or x%5==0):\n",
    "        print(\"divisible by 2 and 5\",x)\n",
    "    \n",
    "    else:\n",
    "        print(\"not\",x)"
   ]
  },
  {
   "cell_type": "code",
   "execution_count": 55,
   "id": "a745e3b5-d2d4-46a4-a8ac-f6dad3f8d6a7",
   "metadata": {},
   "outputs": [
    {
     "name": "stdout",
     "output_type": "stream",
     "text": [
      "1\n",
      "3\n",
      "6\n",
      "10\n",
      "15\n"
     ]
    }
   ],
   "source": [
    "sum=0\n",
    "for i in range(1,6):\n",
    "    sum=sum+i\n",
    "    print(sum)"
   ]
  },
  {
   "cell_type": "code",
   "execution_count": 6,
   "id": "995fa8a9-9943-43ba-a07d-43eccfe9d5e0",
   "metadata": {},
   "outputs": [
    {
     "name": "stdout",
     "output_type": "stream",
     "text": [
      "692\n"
     ]
    }
   ],
   "source": [
    "# get tbe sum of values 90 to 83\n",
    "sum=0\n",
    "for i in range(90,82,-1):\n",
    "    sum=sum+i\n",
    "print(sum)"
   ]
  },
  {
   "cell_type": "code",
   "execution_count": 16,
   "id": "0449acf1-1094-444b-9fa1-0d90cbdae1e4",
   "metadata": {},
   "outputs": [
    {
     "name": "stdout",
     "output_type": "stream",
     "text": [
      "before 15\n",
      "before 17\n",
      "before 19\n",
      "before 21\n",
      "before 23\n",
      "before 25\n",
      "before 27\n",
      "before 29\n",
      "before 31\n",
      "before 33\n",
      "before 35\n",
      "before 37\n",
      "before 39\n",
      "before 41\n",
      "before 43\n",
      "before 45\n",
      "after 480\n"
     ]
    }
   ],
   "source": [
    "# get the sum of all odd number 15 to 45\n",
    "sum=0\n",
    "for x in range(15,46):\n",
    "    if(x%2!=0):\n",
    "        print(\"before\",x)\n",
    "        sum =sum+x\n",
    "\n",
    "print(\"after\",sum)"
   ]
  },
  {
   "cell_type": "code",
   "execution_count": 20,
   "id": "30a26c15-ad6e-451e-9866-be37287c2217",
   "metadata": {},
   "outputs": [
    {
     "name": "stdout",
     "output_type": "stream",
     "text": [
      "720 15\n"
     ]
    }
   ],
   "source": [
    "sum=0\n",
    "count=0\n",
    "for i in range(1,96):\n",
    "    if(i%6==0):\n",
    "        count+=1\n",
    "        sum=sum+i\n",
    "print(sum,count)"
   ]
  },
  {
   "cell_type": "code",
   "execution_count": 45,
   "id": "c2ab57f0-b61c-4613-b571-b8cfe6bad691",
   "metadata": {},
   "outputs": [
    {
     "name": "stdout",
     "output_type": "stream",
     "text": [
      "a 1\n",
      "a 3\n",
      "a 7\n",
      "o 10\n"
     ]
    }
   ],
   "source": [
    "x=\"sawai madhopur\"\n",
    "for i in range(0,len(x)):\n",
    "    if(x[i]==\"a\" or x[i]==\"e\" or x[i]==\"o\") :\n",
    "        print(x[i],i)"
   ]
  },
  {
   "cell_type": "code",
   "execution_count": null,
   "id": "275db7fe-b135-4dc0-98c7-ead13e0cfe9f",
   "metadata": {},
   "outputs": [],
   "source": []
  }
 ],
 "metadata": {
  "kernelspec": {
   "display_name": "Python [conda env:base] *",
   "language": "python",
   "name": "conda-base-py"
  },
  "language_info": {
   "codemirror_mode": {
    "name": "ipython",
    "version": 3
   },
   "file_extension": ".py",
   "mimetype": "text/x-python",
   "name": "python",
   "nbconvert_exporter": "python",
   "pygments_lexer": "ipython3",
   "version": "3.12.7"
  }
 },
 "nbformat": 4,
 "nbformat_minor": 5
}
