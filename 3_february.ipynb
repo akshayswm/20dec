{
  "nbformat": 4,
  "nbformat_minor": 0,
  "metadata": {
    "colab": {
      "provenance": [],
      "authorship_tag": "ABX9TyM88xFummnFreRla+XBpozp",
      "include_colab_link": true
    },
    "kernelspec": {
      "name": "python3",
      "display_name": "Python 3"
    },
    "language_info": {
      "name": "python"
    }
  },
  "cells": [
    {
      "cell_type": "markdown",
      "metadata": {
        "id": "view-in-github",
        "colab_type": "text"
      },
      "source": [
        "<a href=\"https://colab.research.google.com/github/akshayswm/20dec/blob/main/3_february.ipynb\" target=\"_parent\"><img src=\"https://colab.research.google.com/assets/colab-badge.svg\" alt=\"Open In Colab\"/></a>"
      ]
    },
    {
      "cell_type": "code",
      "execution_count": 10,
      "metadata": {
        "colab": {
          "base_uri": "https://localhost:8080/"
        },
        "id": "JRomj376b5bI",
        "outputId": "222bc95c-b9fa-4a42-c0b4-90baace52640"
      },
      "outputs": [
        {
          "output_type": "stream",
          "name": "stdout",
          "text": [
            "hello-akshaysharma\n"
          ]
        }
      ],
      "source": [
        "print(\"hello\",end=\"-\")\n",
        "print(\"akshay\",end=\"\")\n",
        "print(\"sharma\")"
      ]
    },
    {
      "cell_type": "code",
      "source": [
        "x=True\n",
        "print(x,type(x))"
      ],
      "metadata": {
        "colab": {
          "base_uri": "https://localhost:8080/"
        },
        "id": "hE2goQvicVAt",
        "outputId": "12be0c85-88d1-4bfe-8865-58e78c9ed3f5"
      },
      "execution_count": 16,
      "outputs": [
        {
          "output_type": "stream",
          "name": "stdout",
          "text": [
            "True <class 'bool'>\n"
          ]
        }
      ]
    },
    {
      "cell_type": "code",
      "source": [
        "address='''plot no 15\n",
        "railway colony sawai madhopur'''\n",
        "print(address)"
      ],
      "metadata": {
        "colab": {
          "base_uri": "https://localhost:8080/"
        },
        "id": "kDYRHn-6dV21",
        "outputId": "e60707ff-1b9e-4186-84fa-5da815d41161"
      },
      "execution_count": 21,
      "outputs": [
        {
          "output_type": "stream",
          "name": "stdout",
          "text": [
            "plot no 15\n",
            "railway colony sawai madhopur\n"
          ]
        }
      ]
    },
    {
      "cell_type": "code",
      "source": [
        " #keyword\n",
        " #indentifier\n",
        " #literal--raw data,10 and hey\n",
        " x=10\n",
        " x=\"hey\""
      ],
      "metadata": {
        "id": "mJ0l0BD2eEwU"
      },
      "execution_count": 22,
      "outputs": []
    },
    {
      "cell_type": "code",
      "source": [
        "#operator\n",
        "#symbol\n",
        "#arithmetic  ---  + - * / // ** %\n",
        "11//2    #floor division --int\n"
      ],
      "metadata": {
        "colab": {
          "base_uri": "https://localhost:8080/"
        },
        "id": "4GcJHb41fnqO",
        "outputId": "89eda36f-9ef9-40cb-e028-8607b45a7f46"
      },
      "execution_count": 29,
      "outputs": [
        {
          "output_type": "execute_result",
          "data": {
            "text/plain": [
              "5"
            ]
          },
          "metadata": {},
          "execution_count": 29
        }
      ]
    },
    {
      "cell_type": "code",
      "source": [
        "2**3\n",
        "2**4"
      ],
      "metadata": {
        "colab": {
          "base_uri": "https://localhost:8080/"
        },
        "id": "b0u42DF9f0uI",
        "outputId": "76b6f88b-b649-46b5-b9e9-6c7fbf6a15f8"
      },
      "execution_count": 28,
      "outputs": [
        {
          "output_type": "execute_result",
          "data": {
            "text/plain": [
              "16"
            ]
          },
          "metadata": {},
          "execution_count": 28
        }
      ]
    },
    {
      "cell_type": "code",
      "source": [
        "10+5*3-4/2"
      ],
      "metadata": {
        "colab": {
          "base_uri": "https://localhost:8080/"
        },
        "id": "CXWGoKBKgODK",
        "outputId": "4936c810-8903-40da-d7db-f39f3b4e9080"
      },
      "execution_count": 30,
      "outputs": [
        {
          "output_type": "execute_result",
          "data": {
            "text/plain": [
              "23.0"
            ]
          },
          "metadata": {},
          "execution_count": 30
        }
      ]
    },
    {
      "cell_type": "code",
      "source": [
        "#**\n",
        "#* /,//,%\n",
        "#+ -\n"
      ],
      "metadata": {
        "id": "YgdGehn2glfI"
      },
      "execution_count": 31,
      "outputs": []
    },
    {
      "cell_type": "code",
      "source": [
        "#comparison operator --Boolean (True or Falsr)\n",
        "#<,>,<=,>=,==\n",
        "x=100\n",
        "x!=100\n"
      ],
      "metadata": {
        "colab": {
          "base_uri": "https://localhost:8080/"
        },
        "id": "C4Dt3cdVo-85",
        "outputId": "4961c27f-8b8c-4da7-9626-2b666417633f"
      },
      "execution_count": 34,
      "outputs": [
        {
          "output_type": "execute_result",
          "data": {
            "text/plain": [
              "False"
            ]
          },
          "metadata": {},
          "execution_count": 34
        }
      ]
    },
    {
      "cell_type": "code",
      "source": [
        "age=10\n",
        "age=age+1\n",
        "print(age)"
      ],
      "metadata": {
        "colab": {
          "base_uri": "https://localhost:8080/"
        },
        "id": "thJ9kD8UpKPs",
        "outputId": "bf9f4a22-8a3a-4cf4-c22f-b2ee130ffc2a"
      },
      "execution_count": 35,
      "outputs": [
        {
          "output_type": "stream",
          "name": "stdout",
          "text": [
            "11\n"
          ]
        }
      ]
    },
    {
      "cell_type": "code",
      "source": [
        "#membership operator and identity operator\n",
        "#difference between"
      ],
      "metadata": {
        "id": "8AzLlkCkp4Fs"
      },
      "execution_count": null,
      "outputs": []
    }
  ]
}