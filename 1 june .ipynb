{
 "cells": [
  {
   "cell_type": "code",
   "execution_count": 4,
   "id": "023b5187-83ac-47ad-ba7a-cc947dadb9c8",
   "metadata": {},
   "outputs": [],
   "source": [
    "## python ==>python is a versatile, high - level programming language known for its readability \n",
    "## simplicity. Python is an interpreted language meaning code is executed line by line without \n",
    "## prior compilation and it supports multiple programming paradigms, including procedural,\n",
    "## object- oriented and functional programming"
   ]
  },
  {
   "cell_type": "code",
   "execution_count": 24,
   "id": "7f2a7115-3aea-41c1-8c90-3f3dba012ce4",
   "metadata": {},
   "outputs": [
    {
     "name": "stdout",
     "output_type": "stream",
     "text": [
      "hello-akshya regex\n"
     ]
    }
   ],
   "source": [
    "print(\"hello\",end=\"-\")\n",
    "print(\"akshya\",end=\" \")\n",
    "print(\"regex\")"
   ]
  },
  {
   "cell_type": "code",
   "execution_count": 32,
   "id": "a86565ec-53e4-4ca9-9c0c-238652df3c3f",
   "metadata": {},
   "outputs": [
    {
     "name": "stdout",
     "output_type": "stream",
     "text": [
      "askhay <class 'str'>\n"
     ]
    }
   ],
   "source": [
    "x=\"askhay\"\n",
    "print(x,type(x))"
   ]
  },
  {
   "cell_type": "code",
   "execution_count": 36,
   "id": "2052dd26-7c45-43fa-bdb2-20c69c8213eb",
   "metadata": {},
   "outputs": [
    {
     "name": "stdout",
     "output_type": "stream",
     "text": [
      "plot no 15 railway colony\n",
      "sawai madhopur, sawai madhopur <class 'str'>\n"
     ]
    }
   ],
   "source": [
    "address=\"\"\"plot no 15 railway colony\n",
    "sawai madhopur, sawai madhopur\"\"\"\n",
    "print(address,type(address))"
   ]
  },
  {
   "cell_type": "code",
   "execution_count": 38,
   "id": "5560448d-ceee-4010-870b-78598ccff67b",
   "metadata": {},
   "outputs": [],
   "source": [
    "# membership operator ===>Membership operator in python are used to test if a value or variable\n",
    "# is found within a sequence,such as stings ,lists,tuples,sets or dictionaries . There are two\n",
    "# TWO membership operators : in and not in"
   ]
  },
  {
   "cell_type": "code",
   "execution_count": 40,
   "id": "e3ff6818-181f-4300-b645-aca6b2eabb6d",
   "metadata": {},
   "outputs": [],
   "source": [
    "# Identity operator===>identity operators in python are used to compare the memory locationon\n",
    "# of two object. They check if two variables refer to the same object in memory rathe than\n",
    "# comparing their values .There are two identity operators\n",
    "# is: returs True if both variables point to the same object\n",
    "# is not: return True if both variable do not point to the same object"
   ]
  },
  {
   "cell_type": "code",
   "execution_count": 42,
   "id": "c4fd7d75-5b9e-4245-8838-99ef1def8a51",
   "metadata": {},
   "outputs": [],
   "source": [
    "# Keyword=> Keywords in python are reserved words that have specific meanings and purposes within tha language\n"
   ]
  },
  {
   "cell_type": "code",
   "execution_count": 44,
   "id": "427df242-b033-4809-ba6e-d7ce002a00e2",
   "metadata": {},
   "outputs": [],
   "source": [
    "# Literal==>literals in python are fixed valuses that are directly written in the code .\n",
    "# they represent constant data  and can be of various types such as numeric, string, boolean,\n",
    "# and special values like None"
   ]
  },
  {
   "cell_type": "code",
   "execution_count": 46,
   "id": "f3b1f0b1-3f3c-4291-9fb6-1e7ec30a5236",
   "metadata": {},
   "outputs": [],
   "source": [
    "# operator==>arithmetic-->add, subtraction,multipilcation, divide,floot division"
   ]
  },
  {
   "cell_type": "code",
   "execution_count": 48,
   "id": "11b3f1e8-8685-41e9-a052-756c40e848fb",
   "metadata": {},
   "outputs": [],
   "source": [
    "# comparison operator==> boolean (True and False)\n",
    "# >,<,>=,<= \n",
    "a=100\n",
    "a=000"
   ]
  },
  {
   "cell_type": "code",
   "execution_count": 50,
   "id": "6705951c-b37d-412d-9dc5-439a045777ce",
   "metadata": {},
   "outputs": [
    {
     "data": {
      "text/plain": [
       "23.0"
      ]
     },
     "execution_count": 50,
     "metadata": {},
     "output_type": "execute_result"
    }
   ],
   "source": [
    "10+5*3-4/2"
   ]
  },
  {
   "cell_type": "code",
   "execution_count": 52,
   "id": "b4992c11-49c2-4543-b3f0-f5090fe7fbeb",
   "metadata": {},
   "outputs": [],
   "source": [
    "# **\n",
    "# *,/,//,%\n",
    "# +,-"
   ]
  },
  {
   "cell_type": "code",
   "execution_count": 60,
   "id": "c9ea4c7f-7b56-4f04-a712-ed01aeed3027",
   "metadata": {},
   "outputs": [
    {
     "name": "stdout",
     "output_type": "stream",
     "text": [
      "20\n"
     ]
    }
   ],
   "source": [
    "age=10\n",
    "ag=age+10\n",
    "print(ag)"
   ]
  },
  {
   "cell_type": "code",
   "execution_count": null,
   "id": "bc932df6-520a-402b-9e59-b33c5597597f",
   "metadata": {},
   "outputs": [],
   "source": []
  }
 ],
 "metadata": {
  "kernelspec": {
   "display_name": "Python [conda env:base] *",
   "language": "python",
   "name": "conda-base-py"
  },
  "language_info": {
   "codemirror_mode": {
    "name": "ipython",
    "version": 3
   },
   "file_extension": ".py",
   "mimetype": "text/x-python",
   "name": "python",
   "nbconvert_exporter": "python",
   "pygments_lexer": "ipython3",
   "version": "3.12.7"
  }
 },
 "nbformat": 4,
 "nbformat_minor": 5
}
