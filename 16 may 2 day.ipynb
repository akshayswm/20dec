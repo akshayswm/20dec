{
 "cells": [
  {
   "cell_type": "code",
   "execution_count": 2,
   "id": "c700dbc8-fbdc-4273-821b-8e2acfe40f6f",
   "metadata": {},
   "outputs": [],
   "source": [
    "# ---- if else\n",
    "# nested if - else\n",
    "#condition dushri condtion\n"
   ]
  },
  {
   "cell_type": "code",
   "execution_count": 9,
   "id": "251cef87-2759-4cac-b274-1e5f38096aed",
   "metadata": {},
   "outputs": [
    {
     "name": "stdout",
     "output_type": "stream",
     "text": [
      "only   divisible by 2\n"
     ]
    }
   ],
   "source": [
    "# num=int(input(\"enter your data\"))\n",
    "if(num%2==0):\n",
    "    if(num%5==0):\n",
    "        print(\"divisible by both 2 and 5\")\n",
    "    else:\n",
    "        print(\"only   divisible by 2\")\n",
    "  \n",
    "else:\n",
    "    \n",
    "    print(\"not divisible by 2 \")"
   ]
  },
  {
   "cell_type": "code",
   "execution_count": 22,
   "id": "c2384371-bb66-4cf8-a9ce-37d7e6996331",
   "metadata": {},
   "outputs": [
    {
     "name": "stdout",
     "output_type": "stream",
     "text": [
      "only aadhar\n",
      "not applicable for account\n"
     ]
    }
   ],
   "source": [
    "aadhar=True\n",
    "pan=False\n",
    "if(aadhar==True):\n",
    "    print(\"only aadhar\")\n",
    "    if(pan==True):\n",
    "        print(\"both aadhar and pan for account\")\n",
    "    else:\n",
    "        print(\"not applicable for account\")"
   ]
  },
  {
   "cell_type": "code",
   "execution_count": 23,
   "id": "c2111980-e890-4c9d-991e-5da762aee720",
   "metadata": {},
   "outputs": [
    {
     "name": "stdin",
     "output_type": "stream",
     "text": [
      "enter a number 3\n",
      "enter your city sdf\n"
     ]
    }
   ],
   "source": [
    "a=int(input(\"enter a number\"))\n",
    "b=input(\"enter your city\")\n",
    "if(a>5):\n",
    "    print(\"a is greater than 5\")\n",
    "    if(b==\"jaipur\"):\n",
    "        print(\"a is greater than5 and b is jaipur\")\n",
    "    else:\n",
    "        print(\"a is less than 5\")\n",
    "\n"
   ]
  },
  {
   "cell_type": "code",
   "execution_count": 39,
   "id": "126677ae-d84a-4554-85e9-138348dc7120",
   "metadata": {},
   "outputs": [
    {
     "name": "stdin",
     "output_type": "stream",
     "text": [
      "enter number 2\n"
     ]
    },
    {
     "name": "stdout",
     "output_type": "stream",
     "text": [
      "tuesday\n"
     ]
    }
   ],
   "source": [
    "num=int(input(\"enter number\"))\n",
    "\n",
    "if(num==1):\n",
    "    x=int(input(\"eneter number\"))\n",
    "    if(x>10):\n",
    "        print(\"monday and x is greater than 10\")\n",
    "    else:\n",
    "        print(\"wrong\")\n",
    "elif(num==2):\n",
    "    print(\"tuesday\")\n",
    "else:\n",
    "    print(\"wednesday\")"
   ]
  },
  {
   "cell_type": "code",
   "execution_count": 41,
   "id": "5cfdf90f-62de-44dd-a061-754b588028b9",
   "metadata": {},
   "outputs": [
    {
     "name": "stdout",
     "output_type": "stream",
     "text": [
      "my company is: regex software year is: 2023\n"
     ]
    }
   ],
   "source": [
    "\n",
    "##### string formatting\n",
    "name=\"regex software\"\n",
    "year=2023\n",
    "print(\"my company is:\",name,\"year is:\",year)"
   ]
  },
  {
   "cell_type": "code",
   "execution_count": 43,
   "id": "2a05f60c-549b-4bf2-9da1-9dd8d766725d",
   "metadata": {},
   "outputs": [
    {
     "name": "stdout",
     "output_type": "stream",
     "text": [
      "my company isregex software year is2023\n"
     ]
    }
   ],
   "source": [
    "print(f\"my company is{name} year is{year}\")"
   ]
  },
  {
   "cell_type": "code",
   "execution_count": 49,
   "id": "6c40085d-a3ae-4bc8-b3f2-d99515222259",
   "metadata": {},
   "outputs": [
    {
     "data": {
      "text/plain": [
       "'A'"
      ]
     },
     "execution_count": 49,
     "metadata": {},
     "output_type": "execute_result"
    }
   ],
   "source": [
    "#string =>indexing and slicing\n",
    "City=\"RAJASTHAN\"\n",
    "City[3]"
   ]
  },
  {
   "cell_type": "code",
   "execution_count": null,
   "id": "16dceed2-03fd-4d85-9278-6a1095b6489a",
   "metadata": {},
   "outputs": [],
   "source": []
  }
 ],
 "metadata": {
  "kernelspec": {
   "display_name": "Python [conda env:base] *",
   "language": "python",
   "name": "conda-base-py"
  },
  "language_info": {
   "codemirror_mode": {
    "name": "ipython",
    "version": 3
   },
   "file_extension": ".py",
   "mimetype": "text/x-python",
   "name": "python",
   "nbconvert_exporter": "python",
   "pygments_lexer": "ipython3",
   "version": "3.12.7"
  }
 },
 "nbformat": 4,
 "nbformat_minor": 5
}
