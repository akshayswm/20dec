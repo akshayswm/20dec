{
 "cells": [
  {
   "cell_type": "code",
   "execution_count": 8,
   "id": "4e4c5142-6f2f-400e-baae-3f76c76eca52",
   "metadata": {},
   "outputs": [
    {
     "name": "stdout",
     "output_type": "stream",
     "text": [
      "hello sharma\n",
      "akshay\n"
     ]
    }
   ],
   "source": [
    "print(\"hello sharma\")\n",
    "print(\"akshay\")"
   ]
  },
  {
   "cell_type": "code",
   "execution_count": null,
   "id": "62c49338-a4aa-4e73-8824-dea93a4680a4",
   "metadata": {},
   "outputs": [],
   "source": []
  },
  {
   "cell_type": "code",
   "execution_count": 20,
   "id": "cde775d8-904a-42a5-a273-62714b983e29",
   "metadata": {},
   "outputs": [],
   "source": [
    "address=\"\"\"plot no 15 \n",
    "railway colony sawai madhopur\"\"\"\n"
   ]
  },
  {
   "cell_type": "code",
   "execution_count": 22,
   "id": "e1b259ee-a7a9-459e-afdc-932eb4242d83",
   "metadata": {},
   "outputs": [
    {
     "name": "stdout",
     "output_type": "stream",
     "text": [
      "plot no 15 \n",
      "railway colony sawai madhopur\n"
     ]
    }
   ],
   "source": [
    "print(address)"
   ]
  },
  {
   "cell_type": "code",
   "execution_count": 24,
   "id": "2a87d7f7-5906-4bba-bc0a-170790c16718",
   "metadata": {},
   "outputs": [],
   "source": [
    "### key word \n",
    "### identifier\n",
    "### literal\n"
   ]
  },
  {
   "cell_type": "code",
   "execution_count": 26,
   "id": "01017c43-0947-402f-9571-8c5c783adef4",
   "metadata": {},
   "outputs": [],
   "source": [
    "# Operator\n",
    "# symbol  ---->task execute\n",
    "# arithmetic---->**,*,/,//,%,+,-\n"
   ]
  },
  {
   "cell_type": "code",
   "execution_count": 28,
   "id": "acc77fa2-7e0b-45be-acb5-e2104d3be4cb",
   "metadata": {},
   "outputs": [],
   "source": [
    "# comparison operator\n",
    "#>,<,<=,>=,=="
   ]
  },
  {
   "cell_type": "code",
   "execution_count": 32,
   "id": "5f841fc4-18d3-4be3-be9d-fecb2371a07b",
   "metadata": {},
   "outputs": [
    {
     "name": "stdout",
     "output_type": "stream",
     "text": [
      "False\n"
     ]
    }
   ],
   "source": [
    "a=100\n",
    "b=1000\n",
    "c=a==b\n",
    "print(c)"
   ]
  },
  {
   "cell_type": "code",
   "execution_count": 34,
   "id": "f6a88aae-f736-46f5-8b1e-25d5e7e750ee",
   "metadata": {},
   "outputs": [],
   "source": [
    "#Assignment\n",
    "a=\"hay\""
   ]
  },
  {
   "cell_type": "code",
   "execution_count": 38,
   "id": "d77a579c-5f45-4618-88b5-fb9b11133775",
   "metadata": {},
   "outputs": [
    {
     "name": "stdout",
     "output_type": "stream",
     "text": [
      "21\n"
     ]
    }
   ],
   "source": [
    "age=20\n",
    "age=age+1\n",
    "print(age)"
   ]
  },
  {
   "cell_type": "code",
   "execution_count": 46,
   "id": "99b744ab-dc12-4e6c-ab14-11307a00c8ad",
   "metadata": {},
   "outputs": [
    {
     "data": {
      "text/plain": [
       "True"
      ]
     },
     "execution_count": 46,
     "metadata": {},
     "output_type": "execute_result"
    }
   ],
   "source": [
    "#logical operator\n",
    "a=10\n",
    "a>=10 or a<3\n",
    "# and =>true when all condition are true\n",
    "# or => or when any condition are true "
   ]
  },
  {
   "cell_type": "code",
   "execution_count": 52,
   "id": "3f97b359-63c3-4f2f-946f-e5dee064d5c9",
   "metadata": {},
   "outputs": [
    {
     "data": {
      "text/plain": [
       "False"
      ]
     },
     "execution_count": 52,
     "metadata": {},
     "output_type": "execute_result"
    }
   ],
   "source": [
    "# memeership operator\n",
    "\"A\" in \"akshay\""
   ]
  },
  {
   "cell_type": "code",
   "execution_count": 54,
   "id": "5299e30a-5fbc-4dad-b1e8-936fd762e325",
   "metadata": {},
   "outputs": [],
   "source": [
    "# Identity operator\n",
    "# to check variable certain belong datatype\n",
    "# datatype=> classes mai defined"
   ]
  },
  {
   "cell_type": "code",
   "execution_count": 56,
   "id": "149cfcef-60a5-4202-b153-dd6436edff2a",
   "metadata": {},
   "outputs": [],
   "source": [
    "#condition statement"
   ]
  },
  {
   "cell_type": "code",
   "execution_count": 60,
   "id": "88d10999-d2a5-4a90-9f4f-869d0bd207c8",
   "metadata": {},
   "outputs": [],
   "source": [
    "if(False):\n",
    "    print(\"hello\")"
   ]
  },
  {
   "cell_type": "code",
   "execution_count": 62,
   "id": "c9d5bdfe-f0eb-4cd8-af8d-81bf115ece5e",
   "metadata": {},
   "outputs": [
    {
     "name": "stdout",
     "output_type": "stream",
     "text": [
      "age is 18\n"
     ]
    }
   ],
   "source": [
    "age=18\n",
    "if(age>=18):\n",
    "    print(\"age is 18\")\n",
    "else:\n",
    "    print(\"condition is false\")"
   ]
  },
  {
   "cell_type": "code",
   "execution_count": 66,
   "id": "a50cd62d-48d1-4636-9389-403c2a82b393",
   "metadata": {},
   "outputs": [
    {
     "name": "stdin",
     "output_type": "stream",
     "text": [
      "enter any number 12\n"
     ]
    },
    {
     "name": "stdout",
     "output_type": "stream",
     "text": [
      "EVEN\n"
     ]
    }
   ],
   "source": [
    "# Q1 Write a program that takes an integer input from the user and checks whether the number is odd or\n",
    " #even.\n",
    "a=int(input(\"enter any number\"))\n",
    "if(a%2==0):\n",
    "    print(\"EVEN\")\n",
    "else:\n",
    "    print(\"odd\")"
   ]
  },
  {
   "cell_type": "code",
   "execution_count": 72,
   "id": "1c46dbfb-fcad-4806-aa70-82d213f3167e",
   "metadata": {},
   "outputs": [
    {
     "name": "stdin",
     "output_type": "stream",
     "text": [
      "enter any number 9\n",
      "enter any number 8\n",
      "enter any number 7\n"
     ]
    },
    {
     "name": "stdout",
     "output_type": "stream",
     "text": [
      "c is minimum\n"
     ]
    }
   ],
   "source": [
    "a=int(input(\"enter any number\"))\n",
    "b=int(input(\"enter any number\"))\n",
    "c=int(input(\"enter any number\"))\n",
    "if(a<b and a<c):\n",
    "    print(\"a is minimum\")\n",
    "elif(b<a and b<c):\n",
    "    print(\"b is minimum\")\n",
    "else:\n",
    "    print(\"c is minimum\")"
   ]
  },
  {
   "cell_type": "code",
   "execution_count": 85,
   "id": "fb46c560-e429-4420-a02d-bcf36bc458de",
   "metadata": {},
   "outputs": [
    {
     "name": "stdin",
     "output_type": "stream",
     "text": [
      "enter any number 8\n",
      "enter any number 2\n",
      "enter any number 1\n"
     ]
    },
    {
     "name": "stdout",
     "output_type": "stream",
     "text": [
      "a is larges\n"
     ]
    }
   ],
   "source": [
    "#Q2  Q2 Write a program that takes three numbers as input and prints the largest of the three.\n",
    "a=int(input(\"enter any number\"))\n",
    "b=int(input(\"enter any number\"))\n",
    "c=int(input(\"enter any number\"))\n",
    "if(a>b and a>c):\n",
    "    print(\"a is larges\")\n",
    "elif(b>a and b>c):\n",
    "    print(\"b is larges\")\n",
    "else:\n",
    "    print(\"c is larges\")"
   ]
  },
  {
   "cell_type": "code",
   "execution_count": 95,
   "id": "4c589d15-a59b-4346-a0ee-c40f5d3f9a92",
   "metadata": {},
   "outputs": [
    {
     "name": "stdin",
     "output_type": "stream",
     "text": [
      "Enter a year:  1996\n"
     ]
    },
    {
     "name": "stdout",
     "output_type": "stream",
     "text": [
      "1996 is a leap year.\n"
     ]
    }
   ],
   "source": [
    "#Q3 Write a program to check if a given year is a leap year. A leap year is divisible by 4 but not by 100\n",
    " #unless it is also divisible by 400\n",
    "year = int(input(\"Enter a year: \"))\n",
    "\n",
    "if (year % 4 == 0 and year % 100 != 0) or (year % 400 == 0 ):\n",
    "    print(f\"{year} is a leap year.\")\n",
    "else:\n",
    "    print(f\"{year} is not a leap year.\")\n"
   ]
  },
  {
   "cell_type": "code",
   "execution_count": null,
   "id": "e3e8152c-e420-4d4b-af63-4a5d9bbe1602",
   "metadata": {},
   "outputs": [],
   "source": [
    "#Q4 Write a program that takes a percentage (integer) as input and prints the corresponding grade based\n",
    " #on the following criteria:\n",
    " #>= 90: Grade A\n",
    " #>= 80: Grade B\n",
    " #>= 70: Grade C\n",
    " #>= 60: Grade D\n",
    " #< 60: Grade F\n",
    "X="
   ]
  }
 ],
 "metadata": {
  "kernelspec": {
   "display_name": "Python [conda env:base] *",
   "language": "python",
   "name": "conda-base-py"
  },
  "language_info": {
   "codemirror_mode": {
    "name": "ipython",
    "version": 3
   },
   "file_extension": ".py",
   "mimetype": "text/x-python",
   "name": "python",
   "nbconvert_exporter": "python",
   "pygments_lexer": "ipython3",
   "version": "3.12.7"
  }
 },
 "nbformat": 4,
 "nbformat_minor": 5
}
