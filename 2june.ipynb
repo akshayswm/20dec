{
 "cells": [
  {
   "cell_type": "code",
   "execution_count": 2,
   "id": "2a1bc920-4f17-4359-aff0-a381a1a038cb",
   "metadata": {},
   "outputs": [],
   "source": [
    "# logical operator==>\n",
    "# and ==> true when all condition ara true\n",
    "# or==>true when any condition are true "
   ]
  },
  {
   "cell_type": "code",
   "execution_count": 12,
   "id": "a9cdb392-288b-47b0-b3f1-0a877152e67f",
   "metadata": {},
   "outputs": [
    {
     "data": {
      "text/plain": [
       "True"
      ]
     },
     "execution_count": 12,
     "metadata": {},
     "output_type": "execute_result"
    }
   ],
   "source": [
    "\"A\" not in \"akshay\""
   ]
  },
  {
   "cell_type": "code",
   "execution_count": 16,
   "id": "29f1de4c-535a-4b56-8c87-6064caa8d9f7",
   "metadata": {},
   "outputs": [
    {
     "data": {
      "text/plain": [
       "True"
      ]
     },
     "execution_count": 16,
     "metadata": {},
     "output_type": "execute_result"
    }
   ],
   "source": [
    "100 in[10,20,30,40,100]"
   ]
  },
  {
   "cell_type": "code",
   "execution_count": 18,
   "id": "70edcdcb-411e-46bf-80ba-59d12a898aee",
   "metadata": {},
   "outputs": [],
   "source": [
    "#identity operator\n",
    "# to check variable certain belong datatype\n",
    "# datatype => classes mai defined"
   ]
  },
  {
   "cell_type": "code",
   "execution_count": 20,
   "id": "06035a24-eb41-4553-9161-75cff38be0a1",
   "metadata": {},
   "outputs": [
    {
     "data": {
      "text/plain": [
       "True"
      ]
     },
     "execution_count": 20,
     "metadata": {},
     "output_type": "execute_result"
    }
   ],
   "source": [
    "a=10\n",
    "type(a) is int "
   ]
  },
  {
   "cell_type": "code",
   "execution_count": 26,
   "id": "c34306e2-00f3-497f-bb5c-a5fff7c4ef48",
   "metadata": {},
   "outputs": [
    {
     "name": "stdout",
     "output_type": "stream",
     "text": [
      "hello\n"
     ]
    }
   ],
   "source": [
    "# conditional statement=> if,else,elif\n",
    "print(\"hello\")\n",
    "if(False):\n",
    "    print(\"hey\")"
   ]
  },
  {
   "cell_type": "code",
   "execution_count": 30,
   "id": "50740726-d825-4378-8ae7-adef353940e2",
   "metadata": {},
   "outputs": [
    {
     "name": "stdout",
     "output_type": "stream",
     "text": [
      "age is 18\n"
     ]
    }
   ],
   "source": [
    "age=18\n",
    "if(age>=18):\n",
    "    print(\"age is 18\")\n",
    "else:\n",
    "    print(\"condition is false\")"
   ]
  },
  {
   "cell_type": "code",
   "execution_count": 34,
   "id": "b03600cc-8ada-42a6-a479-e1e4c4d6d5c4",
   "metadata": {},
   "outputs": [
    {
     "name": "stdin",
     "output_type": "stream",
     "text": [
      "enter any number 35\n"
     ]
    },
    {
     "name": "stdout",
     "output_type": "stream",
     "text": [
      "number is odd\n"
     ]
    }
   ],
   "source": [
    "# to find number is even or odd\n",
    "a=int(input(\"enter any number\"))\n",
    "if(a%2==0):\n",
    "    print(\"number is even\")\n",
    "else:\n",
    "    print(\"number is odd\")"
   ]
  },
  {
   "cell_type": "code",
   "execution_count": 15,
   "id": "bcc8e99e-5a36-4f81-aed0-a477c002b296",
   "metadata": {},
   "outputs": [
    {
     "name": "stdin",
     "output_type": "stream",
     "text": [
      "enter value 5\n"
     ]
    },
    {
     "name": "stdout",
     "output_type": "stream",
     "text": [
      "girls\n"
     ]
    }
   ],
   "source": [
    "x=int(input(\"enter value\"))\n",
    "if(x==1 or x==2):\n",
    "    print(\"sex\")\n",
    "elif(x==3 or x==4):\n",
    "    print(\"boys\")\n",
    "else:\n",
    "    print(\"girls\")"
   ]
  },
  {
   "cell_type": "code",
   "execution_count": 21,
   "id": "65b80550-3f02-40cb-9263-3ade19769a2a",
   "metadata": {},
   "outputs": [
    {
     "name": "stdin",
     "output_type": "stream",
     "text": [
      "Enter first values 34\n",
      "Enter second values 645\n",
      "Enter third values 75\n"
     ]
    },
    {
     "name": "stdout",
     "output_type": "stream",
     "text": [
      "y is maximum\n"
     ]
    }
   ],
   "source": [
    "# take 3 variable and find out maximum values\n",
    "x=int(input(\"Enter first values\"))\n",
    "y=int(input(\"Enter second values\"))\n",
    "z=int(input(\"Enter third values\"))\n",
    "if(x>y and x>z):\n",
    "    print(\"x is maximum\")\n",
    "elif(y>x and y>z):\n",
    "    print(\"y is maximum\")\n",
    "else:\n",
    "    print(\"z is maximum\")"
   ]
  },
  {
   "cell_type": "code",
   "execution_count": 35,
   "id": "6c7c5101-d98e-465c-b3a8-784c4a2868cc",
   "metadata": {},
   "outputs": [
    {
     "name": "stdin",
     "output_type": "stream",
     "text": [
      "enter a number 60\n"
     ]
    },
    {
     "name": "stdout",
     "output_type": "stream",
     "text": [
      "number is divisible by 2 and 5 \n"
     ]
    }
   ],
   "source": [
    "x=int(input(\"enter a number\"))\n",
    "if(x%2==0 and x%5==0):\n",
    "    print(\"number is divisible by 2 and 5 \")\n",
    "elif(x%2==0):\n",
    "    print(\"number is divisible by 2 \")\n",
    "elif(x%5==0):\n",
    "    print(\"number is divisible by 5\")\n",
    "else:\n",
    "    print(\"not divisible\")"
   ]
  },
  {
   "cell_type": "code",
   "execution_count": 47,
   "id": "c5dca931-a33a-4167-9559-fb2aa139e7e4",
   "metadata": {},
   "outputs": [
    {
     "name": "stdin",
     "output_type": "stream",
     "text": [
      "enter your age 99\n"
     ]
    },
    {
     "name": "stdout",
     "output_type": "stream",
     "text": [
      "go to hell\n"
     ]
    }
   ],
   "source": [
    "age=int(input(\"enter your age\"))\n",
    "if(age>10 and age<18):\n",
    "    print(\"child\")\n",
    "elif(age>=18 and age<30):\n",
    "    print(\"adult\")\n",
    "elif(age>=30 and age<60):\n",
    "    print(\"citizen\")\n",
    "elif(age>=60 and age<80):\n",
    "    print(\"senior citizen\")\n",
    "else:\n",
    "    print(\"go to hell\")"
   ]
  },
  {
   "cell_type": "code",
   "execution_count": 55,
   "id": "d5d2b5ef-04ce-4490-b451-581621c58768",
   "metadata": {},
   "outputs": [
    {
     "name": "stdin",
     "output_type": "stream",
     "text": [
      "enter any number 4\n"
     ]
    },
    {
     "name": "stdout",
     "output_type": "stream",
     "text": [
      "number is even\n"
     ]
    }
   ],
   "source": [
    "#Q1 Write a program that takes an integer input from the user and checks whether the number is odd or\n",
    " #even.\n",
    "a=int(input(\"enter any number\"))\n",
    "if(a%2==0):\n",
    "    print(\"number is even\")\n",
    "else:\n",
    "    print(\"number is odd\")\n"
   ]
  },
  {
   "cell_type": "code",
   "execution_count": 59,
   "id": "4872bbfc-da4f-4da8-b642-0d74fa1f10bc",
   "metadata": {},
   "outputs": [
    {
     "name": "stdin",
     "output_type": "stream",
     "text": [
      "Enter first values 5\n",
      "Enter second values 5\n",
      "Enter third values 5\n"
     ]
    },
    {
     "name": "stdout",
     "output_type": "stream",
     "text": [
      "z is maximum\n"
     ]
    }
   ],
   "source": [
    "# Q2 Write a program that takes three numbers as input and prints the largest of the three.\n",
    "x=int(input(\"Enter first values\"))\n",
    "y=int(input(\"Enter second values\"))\n",
    "z=int(input(\"Enter third values\"))\n",
    "if(x>y and x>z):\n",
    "    print(\"x is maximum\")\n",
    "elif(y>x and y>z):\n",
    "    print(\"y is maximum\")\n",
    "else:\n",
    "    print(\"z is maximum\")"
   ]
  },
  {
   "cell_type": "code",
   "execution_count": 72,
   "id": "9c3ecf3b-47d9-412b-8e01-05e70512487b",
   "metadata": {},
   "outputs": [
    {
     "name": "stdin",
     "output_type": "stream",
     "text": [
      "enter the year 2020\n"
     ]
    },
    {
     "name": "stdout",
     "output_type": "stream",
     "text": [
      " enter year2020 is a leap year\n"
     ]
    }
   ],
   "source": [
    "#Q3 Write a program to check if a given year is a leap year. A leap year is divisible by 4 but not by 100\n",
    "# unless it is also divisible by 400.\n",
    "year=int(input(\"enter the year\"))\n",
    "if(year%100==0 and year%400==0):\n",
    "    print(f\"enter year is{year} is a leap year\")\n",
    "elif(year%4==0 and year%100!=0):\n",
    "    print(f\" enter year{year} is a leap year\")\n",
    "else:\n",
    "    print(f\"enter year{year} is a not leap year\")\n"
   ]
  },
  {
   "cell_type": "code",
   "execution_count": 104,
   "id": "137c773c-b36f-4661-ac63-f0ce9e44f511",
   "metadata": {},
   "outputs": [
    {
     "name": "stdin",
     "output_type": "stream",
     "text": [
      "enter your percentage 95\n"
     ]
    },
    {
     "name": "stdout",
     "output_type": "stream",
     "text": [
      "Grade D\n"
     ]
    }
   ],
   "source": [
    "# Q4 Write a program that takes a percentage (integer) as input and prints the corresponding grade based\n",
    "# on the following criteria:\n",
    "#>= 90: Grade A\n",
    "# >= 80: Grade B\n",
    "#>= 70: Grade C\n",
    "#>= 60: Grade D\n",
    "#< 60: Grade F\n",
    "x=int(input(\"enter your percentage\"))\n",
    "if (percentage >= 90):\n",
    "    print(\"Grade A\")\n",
    "       \n",
    "elif (percentage >= 80):\n",
    "    print(\"Grade B\")\n",
    "elif (percentage >= 70):\n",
    "    print(\"Grade C\")\n",
    "elif (percentage >= 60):\n",
    "    print(\"Grade D\")\n",
    "else:\n",
    "    print(\"Grade F\")"
   ]
  },
  {
   "cell_type": "code",
   "execution_count": 116,
   "id": "0721f5e5-45c6-4681-8b59-1bc0ebb87e91",
   "metadata": {},
   "outputs": [
    {
     "name": "stdin",
     "output_type": "stream",
     "text": [
      "enter your data a\n"
     ]
    },
    {
     "name": "stdout",
     "output_type": "stream",
     "text": [
      "vowel\n"
     ]
    }
   ],
   "source": [
    "# Q5 Write a program that checks if a given letter is a vowel (a, e, i, o, u) or a consonant.\n",
    "x=input(\"enter your data\")\n",
    "if(x==\"a\" or x==\"e\" or x==\"i\" or x==\"o\" or x==\"u\") :\n",
    "    print(\"vowel\")\n",
    "else:\n",
    "    print(\"consonent\")"
   ]
  },
  {
   "cell_type": "code",
   "execution_count": 130,
   "id": "a37e6802-f9ff-478d-a55c-8917b9c084fd",
   "metadata": {},
   "outputs": [
    {
     "name": "stdin",
     "output_type": "stream",
     "text": [
      "enter your first number 5\n",
      "enter your second number 5\n",
      "enter operator /\n"
     ]
    },
    {
     "name": "stdout",
     "output_type": "stream",
     "text": [
      "1.0\n"
     ]
    }
   ],
   "source": [
    "# Q6 Write a basic calculator program that takes two numbers and an operator (+,-, *, /) as input and\n",
    "# performs the specified operation. Print the result based on the operation.##\n",
    "x=int(input(\"enter your first number\"))\n",
    "y=int(input(\"enter your second number\"))\n",
    "z=input(\"enter operator\")\n",
    "if(z==\"+\"):\n",
    "    print(x+y)\n",
    "elif(z==\"-\"):\n",
    "    print(x-y)\n",
    "elif(z==\"*\"):\n",
    "    print(x*y)\n",
    "elif(z==\"/\"):\n",
    "    print(x/y)\n",
    "else:\n",
    "    print(\"fuck you\")"
   ]
  },
  {
   "cell_type": "code",
   "execution_count": 138,
   "id": "e9cda34f-2db3-401a-b90d-586633a3810e",
   "metadata": {},
   "outputs": [
    {
     "name": "stdin",
     "output_type": "stream",
     "text": [
      "enter your number 0\n"
     ]
    },
    {
     "name": "stdout",
     "output_type": "stream",
     "text": [
      "number is zero\n"
     ]
    }
   ],
   "source": [
    "#Q7 Write a program that takes a number as input and checks whether it is positive, negative, or zero.\n",
    "x=int(input(\"enter your number\"))\n",
    "if(x>0):\n",
    "    print(\"number is positive\")\n",
    "elif(x<0):\n",
    "    print(\"number is negative\")\n",
    "else:\n",
    "    print(\"number is zero\")"
   ]
  },
  {
   "cell_type": "code",
   "execution_count": 144,
   "id": "167cdb8c-25fd-497f-9d87-8464883d9e68",
   "metadata": {},
   "outputs": [
    {
     "name": "stdin",
     "output_type": "stream",
     "text": [
      "enter your username admin\n",
      "enter your number 1234\n"
     ]
    },
    {
     "name": "stdout",
     "output_type": "stream",
     "text": [
      "Login Failed\n"
     ]
    }
   ],
   "source": [
    "# Q8 Write a program that checks if a username and password entered by the user match the pre-set values\n",
    " #username = \"admin\" and password = \"1234\". If both match, print \"Login Successful\", otherwise print\n",
    "# \"Login Failed\".\n",
    "username=input(\"enter your username\")\n",
    "password=int(input(\"enter your number\"))\n",
    "if(username==\"admin\" and password==\"1234\"):\n",
    "    print(\"Login successful\")\n",
    "else:\n",
    "    print(\"Login Failed\")"
   ]
  },
  {
   "cell_type": "code",
   "execution_count": null,
   "id": "d6bc3c0b-5c79-4ee8-a9f8-cea8b6013e69",
   "metadata": {},
   "outputs": [],
   "source": [
    "# Q9 Write a program that takes three sides of a triangle as input and checks if those sides form a valid\n",
    "# triangle. A triangle is valid if the sum of any two sides is greater than the third side.\n",
    "# Check conditions like a + b > c, b + c > a, and a + c > b.\n",
    "a=int(input(\"firsr sides of triangle\"))\n",
    "b=int(input(\"second sides of triangle\"))\n",
    "c=int(input(\"third sides of triangle\"))\n",
    "if(a+b>c and b+c>a):\n",
    "    print(\"b is \")"
   ]
  }
 ],
 "metadata": {
  "kernelspec": {
   "display_name": "Python [conda env:base] *",
   "language": "python",
   "name": "conda-base-py"
  },
  "language_info": {
   "codemirror_mode": {
    "name": "ipython",
    "version": 3
   },
   "file_extension": ".py",
   "mimetype": "text/x-python",
   "name": "python",
   "nbconvert_exporter": "python",
   "pygments_lexer": "ipython3",
   "version": "3.12.7"
  }
 },
 "nbformat": 4,
 "nbformat_minor": 5
}
