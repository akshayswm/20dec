{
  "nbformat": 4,
  "nbformat_minor": 0,
  "metadata": {
    "colab": {
      "provenance": [],
      "authorship_tag": "ABX9TyOlAVM6Hf8hgZYKoOF+J7lK",
      "include_colab_link": true
    },
    "kernelspec": {
      "name": "python3",
      "display_name": "Python 3"
    },
    "language_info": {
      "name": "python"
    }
  },
  "cells": [
    {
      "cell_type": "markdown",
      "metadata": {
        "id": "view-in-github",
        "colab_type": "text"
      },
      "source": [
        "<a href=\"https://colab.research.google.com/github/akshayswm/20dec/blob/main/python_if_else_question.ipynb\" target=\"_parent\"><img src=\"https://colab.research.google.com/assets/colab-badge.svg\" alt=\"Open In Colab\"/></a>"
      ]
    },
    {
      "cell_type": "code",
      "execution_count": null,
      "metadata": {
        "id": "X1yYFr3EYBI0",
        "colab": {
          "base_uri": "https://localhost:8080/"
        },
        "outputId": "102787d6-e953-4f0a-d2dc-6e82c7c34573"
      },
      "outputs": [
        {
          "output_type": "stream",
          "name": "stdout",
          "text": [
            "enter any number49\n",
            "number is odd\n"
          ]
        }
      ],
      "source": [
        "#Q1 Write a program that takes an integer input from the user and checks whether the number is odd or\n",
        "#even.\n",
        "a=int(input(\"enter any number\"))\n",
        "if(a%2==0):\n",
        "    print(\"number is even\")\n",
        "else:\n",
        "    print(\"number is odd\")\n"
      ]
    },
    {
      "cell_type": "code",
      "source": [
        "#Q2 Write a program that takes three numbers as input and prints the largest of the three.\n",
        "a=int(input(\"enter first number\"))\n",
        "b=int(input(\"enter second number\"))\n",
        "c=int(input(\"enter third number\"))\n",
        "if(a>b and a>c):\n",
        "    print(\"a is largest\")\n",
        "elif(b>a and b>c):\n",
        "  print(\"b is largest\")\n",
        "else:\n",
        "  print(\"c is largest\")"
      ],
      "metadata": {
        "colab": {
          "base_uri": "https://localhost:8080/"
        },
        "id": "fsUNoQwd4dLd",
        "outputId": "0ebb9cf3-ba87-4b68-e232-7d77686fec6a"
      },
      "execution_count": null,
      "outputs": [
        {
          "output_type": "stream",
          "name": "stdout",
          "text": [
            "enter first number2\n",
            "enter second number3\n",
            "enter third number1\n",
            "b is largest\n"
          ]
        }
      ]
    },
    {
      "cell_type": "code",
      "source": [
        "#Q3 Write a program to check if a given year is a leap year. A leap year is divisible by 4 but not by 100\n",
        "#unless it is also divisible by 400.\n",
        "a=int(input(\"Please enter your year\"))\n",
        "if(a%100==0):\n",
        "  if(a%400==0 and a%4==0):\n",
        "    print(\"year is leap year\")\n",
        "  else:\n",
        "    print(\"year is not leap year\")\n",
        "\n",
        "\n"
      ],
      "metadata": {
        "colab": {
          "base_uri": "https://localhost:8080/"
        },
        "id": "igACUokC5C4s",
        "outputId": "438f7c5e-41dd-461d-fcdd-62f59910f1e3"
      },
      "execution_count": null,
      "outputs": [
        {
          "output_type": "stream",
          "name": "stdout",
          "text": [
            "Please enter your year1700\n",
            "year is not leap year\n"
          ]
        }
      ]
    },
    {
      "cell_type": "code",
      "source": [
        "#Q4 Write a program that takes a percentage (integer) as input and prints the corresponding grade based\n",
        "#on the following criteria:\n",
        "#>= 90: Grade A\n",
        "#>= 80: Grade B\n",
        "#>= 70: Grade C\n",
        "#>= 60: Grade D\n",
        "#< 60: Grade F\n",
        "a=float(input(\"enter your percentage\"))\n",
        "if(a>=90):\n",
        "  print(\"grade A\")\n",
        "elif(80<=a<90):\n",
        "  print(\"grade B\")\n",
        "elif(70<=a<80):4\n",
        "  print(\"grade c\")\n",
        "elif(60<=a<70):\n",
        "  print(\"grade D\")\n",
        "else:\n",
        "  print(\"grade F\")"
      ],
      "metadata": {
        "colab": {
          "base_uri": "https://localhost:8080/",
          "height": 106
        },
        "id": "1wZGYRj551bp",
        "outputId": "303c3382-8394-4f99-8f6e-fb7df2d75f3d"
      },
      "execution_count": null,
      "outputs": [
        {
          "output_type": "error",
          "ename": "IndentationError",
          "evalue": "unexpected indent (<ipython-input-9-06b7e5000e0d>, line 14)",
          "traceback": [
            "\u001b[0;36m  File \u001b[0;32m\"<ipython-input-9-06b7e5000e0d>\"\u001b[0;36m, line \u001b[0;32m14\u001b[0m\n\u001b[0;31m    print(\"grade c\")\u001b[0m\n\u001b[0m    ^\u001b[0m\n\u001b[0;31mIndentationError\u001b[0m\u001b[0;31m:\u001b[0m unexpected indent\n"
          ]
        }
      ]
    },
    {
      "cell_type": "code",
      "source": [
        "#Q5 Write a program that checks if a given letter is a vowel (a, e, i, o, u) or a consonant.\n",
        "letter=input(\"enter your letter\")\n",
        "if(letter==\"a\" or letter==\"e\" or letter==\"i\" or letter==\"o\" or letter==\"u\"):\n",
        "  print(\"letter is vowel\")\n",
        "else:\n",
        "  print(\"letter is not vowel\")"
      ],
      "metadata": {
        "colab": {
          "base_uri": "https://localhost:8080/"
        },
        "id": "m14IOkim6-Uj",
        "outputId": "34f826e8-a6ef-40d7-a36e-c972185f82e7"
      },
      "execution_count": null,
      "outputs": [
        {
          "output_type": "stream",
          "name": "stdout",
          "text": [
            "enter your lettera\n",
            "letter is vowel\n"
          ]
        }
      ]
    },
    {
      "cell_type": "code",
      "source": [
        "#Q6 Write a basic calculator program that takes two numbers and an operator (+, -, *, /) as input and\n",
        "#performs the specified operation. Print the result based on the operation.\n",
        "a=int(input(\"enter first number\"))\n",
        "b=int(input(\"enter second number\"))\n",
        "c=input(\"enter operator\")\n",
        "if(c=='+'):\n",
        "  print(a+b)\n",
        "elif(c=='-'):\n",
        "  print(a-b)\n",
        "elif(c=='*'):\n",
        "  print(a*b)\n",
        "elif(c=='/'):\n",
        "  print(a/b)\n",
        "else:\n",
        "  print(\"invalid operator\")\n",
        "\n"
      ],
      "metadata": {
        "id": "h3AGdSRO7pGy",
        "colab": {
          "base_uri": "https://localhost:8080/"
        },
        "outputId": "7d662b98-ebe7-4417-dad2-f4f0d92c583b"
      },
      "execution_count": null,
      "outputs": [
        {
          "name": "stdout",
          "output_type": "stream",
          "text": [
            "enter first number78\n"
          ]
        }
      ]
    },
    {
      "cell_type": "code",
      "source": [
        "#Q7 Write a program that takes a number as input and checks whether it is positive, negative, or zero.\n",
        "a=int(input(\"enter any number\"))\n",
        "if(a>0):\n",
        "  print(\"number is positive\")\n",
        "elif(a<0):\n",
        "  print(\"number is negative\")\n",
        "else:\n",
        "  print(\"number is zero\")"
      ],
      "metadata": {
        "id": "vrO7oYwf8Uou"
      },
      "execution_count": null,
      "outputs": []
    },
    {
      "cell_type": "code",
      "source": [
        "#Q8 Write a program that checks if a username and password entered by the user match the pre-set values\n",
        "#username = \"admin\" and password = \"1234\". If both match, print \"Login Successful\", otherwise print\n",
        "#\"Login Failed\".\n",
        "a=\"admin\"\n",
        "b=1234\n",
        "if(a=='admin' and a==1234):\n",
        "  print(\"Login successful\")\n",
        "else:\n",
        "  print(\"Login Failed\")"
      ],
      "metadata": {
        "id": "5wFpM0QC8koj"
      },
      "execution_count": null,
      "outputs": []
    },
    {
      "cell_type": "code",
      "source": [
        "#Q9 Write a program that takes three sides of a triangle as input and checks if those sides form a valid\n",
        "#triangle. A triangle is valid if the sum of any two sides is greater than the third side.\n",
        "#Check conditions like a + b > c, b + c > a, and a + c > b.\n",
        "a=int(input(\"enter one sides of triangle\"))\n",
        "b=int(input(\"enter second sides of triangle\"))\n",
        "c=int(input(\"enter third sides of triangle\"))\n",
        "if(a+b>c and b+c>a and a+c>b):\n",
        "  print(\"valid triangle\")\n",
        "else:\n",
        "  print(\"not triangle\")\n"
      ],
      "metadata": {
        "id": "4of5sUgu9yYx"
      },
      "execution_count": null,
      "outputs": []
    },
    {
      "cell_type": "code",
      "source": [
        "#Q10 Write a program that calculates the Body Mass Index (BMI) based on user input for weight (in\n",
        "#kilograms) and height (in meters). Then categorize the BMI into:\n",
        "#Underweight (BMI < 18.5)\n",
        "#Normal weight (18.5 <= BMI < 24.9)\n",
        "#Overweight (25 <= BMI < 29.9)\n",
        "#Obesity (BMI >= 30)\n",
        "#Use the formula: BMI = weight / (height ** 2)\n",
        "weight=float(input(\"enter your weight in kg\"))\n",
        "height=float(input(\"enter your height in meter\"))\n",
        "bmi=weight/(height*height)\n",
        "if bmi < 18.5:\n",
        "        print(\"Underweight\")\n",
        "    elif (18.5 <= bmi < 24.9):\n",
        "        print(\"Normal weight\")\n",
        "    elif (25 <= bmi < 29.9):\n",
        "        print(\"Overweight\")\n",
        "    else:\n",
        "        return \"Obesity\""
      ],
      "metadata": {
        "id": "JO24pVcEIXTD"
      },
      "execution_count": null,
      "outputs": []
    },
    {
      "cell_type": "code",
      "source": [
        "#Q14 Write a program that categorizes a given age into different groups:\n",
        "#Infant (0-1 year)\n",
        "#Toddler (2-4 years)\n",
        "#Child (5-12 years)\n",
        "#Teenager (13-19 years)\n",
        "#Adult (20-59 years)\n",
        "#Senior (60 years and above)\n",
        "age=int(innput(\"enter your ages\"))\n",
        "if(age>=1):\n",
        "  print(\"Infant\")\n",
        "elif(4<=age<2):\n",
        "  print(\"Toddler\")\n",
        "elif(5<=age<12):\n",
        "  print(\"Child\")\n",
        "elif(13<=age<19):\n",
        "  print(\"Teenager\")\n",
        "elif(20<=age<59):\n",
        "  print(\"Adult\")\n",
        "elif(age>60):\n",
        "  print(\"senior\")\n",
        "else:\n",
        "  print(\"person is dead\")"
      ],
      "metadata": {
        "id": "Tz19jP2SUwxZ"
      },
      "execution_count": null,
      "outputs": []
    },
    {
      "cell_type": "code",
      "source": [
        "#Q15 Write a program that takes an integer (1-7) as input and prints the corresponding day of the week (1\n",
        "#for Monday, 2 for Tuesday, etc.)\n",
        "a=int(input(\"enter digits\"))\n",
        "if(a==1):\n",
        "  print(\"monday\")\n",
        "elif(a==2):\n",
        "  print(a==2):\n",
        "  print(\"tuesday\")\n",
        "elif(a==3):\n",
        "  print(\"wednesday\")\n",
        "elif(a==4):\n",
        "  print(\"thruesday\")\n",
        "elif(a==5):\n",
        "  print(\"friday\")\n",
        "elif(a==6):\n",
        "  print(\"saturday\")\n",
        "elif(a==7):\n",
        "  print(\"sunday\")\n",
        "else:\n",
        "  print(\"invalid\")"
      ],
      "metadata": {
        "id": "NyEZc6NSqTaz"
      },
      "execution_count": null,
      "outputs": []
    },
    {
      "cell_type": "code",
      "source": [],
      "metadata": {
        "id": "4YYkd-iVhnmF"
      },
      "execution_count": null,
      "outputs": []
    },
    {
      "cell_type": "code",
      "source": [],
      "metadata": {
        "id": "4-9Otli6r1IY"
      },
      "execution_count": null,
      "outputs": []
    }
  ]
}