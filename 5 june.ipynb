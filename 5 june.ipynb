{
 "cells": [
  {
   "cell_type": "code",
   "execution_count": 1,
   "id": "59d0ac0b-4613-421f-9459-d3591ba14b67",
   "metadata": {},
   "outputs": [
    {
     "name": "stdin",
     "output_type": "stream",
     "text": [
      "enter your values 878\n"
     ]
    },
    {
     "name": "stdout",
     "output_type": "stream",
     "text": [
      "8 87\n",
      "7 8\n",
      "8 0\n"
     ]
    }
   ],
   "source": [
    "x=int(input(\"enter your values\"))\n",
    "while x>1:\n",
    "    rem=x%10\n",
    "    x=x//10\n",
    "    print(rem,x)"
   ]
  },
  {
   "cell_type": "code",
   "execution_count": 2,
   "id": "46a98e55-826a-4256-a161-5f124bf48d3e",
   "metadata": {},
   "outputs": [
    {
     "name": "stdout",
     "output_type": "stream",
     "text": [
      "1\n",
      "2\n",
      "outside\n"
     ]
    }
   ],
   "source": [
    "# break and continue\n",
    "for i in range(1,5):\n",
    "    if(i==3):\n",
    "        break\n",
    "    print(i)\n",
    "        \n",
    "print(\"outside\")"
   ]
  },
  {
   "cell_type": "markdown",
   "id": "87eae576-118b-48a6-bae9-f58f2bb3e0ea",
   "metadata": {},
   "source": [
    "# progrme to check a number is prime or not ?\n",
    "num=int(input(\"enter your number\"))\n",
    "z=0\n",
    "for i in range(2,num):\n",
    "    if(num%i==0):\n",
    "        z=1\n",
    "        break\n",
    "if(z==0):\n",
    "    print(\"prime number\")\n",
    "else:\n",
    "    print(\"not prime number\")\n",
    "\n",
    "\n",
    "\n"
   ]
  },
  {
   "cell_type": "markdown",
   "id": "69449a4f-a385-4dea-92f3-7b8c36fa1cb5",
   "metadata": {},
   "source": [
    "# using function \n",
    "def prime(num):\n",
    "    \n",
    "    z=0\n",
    "    for i in range(2,num):\n",
    "        if(num%i==0):\n",
    "            z=1\n",
    "            break\n",
    "    if(z==0):\n",
    "            print(\"prime number\")\n",
    "    else:\n",
    "            print(\"not prime number\")\n",
    "num=int(input(\"enter your number\"))\n",
    "prime(num)"
   ]
  },
  {
   "cell_type": "markdown",
   "id": "35b0673c-2772-4122-9cb9-043bb760e928",
   "metadata": {},
   "source": [
    "# continue\n",
    "for i in range(1,5):\n",
    "    if(i==3):\n",
    "        continue\n",
    "    print(i)"
   ]
  },
  {
   "cell_type": "code",
   "execution_count": 6,
   "id": "34ed7dd5-4f02-464b-aea5-8139c22cd0e2",
   "metadata": {},
   "outputs": [
    {
     "name": "stdout",
     "output_type": "stream",
     "text": [
      "akshay 10\n",
      "akshay 9\n",
      "akshay 8\n",
      "akshay 7\n",
      "akshay 6\n",
      "akshay 5\n",
      "akshay 4\n",
      "akshay 3\n",
      "akshay 2\n",
      "akshay 1\n"
     ]
    }
   ],
   "source": [
    "# While loop-->based on certain condition\n",
    "num=10\n",
    "while(num>0):\n",
    "    print(\"akshay\",num)\n",
    "    num=num-1"
   ]
  },
  {
   "cell_type": "code",
   "execution_count": 26,
   "id": "e76f5bc2-fc75-4d7b-8d24-e4d8b66a7ced",
   "metadata": {},
   "outputs": [],
   "source": [
    "num=11\n",
    "while(num==10):\n",
    "    if(num%2==0):\n",
    "        print(\"even\")\n",
    "    else:\n",
    "        print(\"odd\")\n",
    "num+=1\n",
    "\n",
    "    "
   ]
  },
  {
   "cell_type": "code",
   "execution_count": 28,
   "id": "9dc7564c-9708-4e05-a654-3d36bf47b553",
   "metadata": {},
   "outputs": [
    {
     "name": "stdout",
     "output_type": "stream",
     "text": [
      "1\n",
      "2\n",
      "3\n",
      "4\n",
      "5\n"
     ]
    }
   ],
   "source": [
    "# print number from 1 to 5 \n",
    "for i in range(1,6):\n",
    "    print(i)"
   ]
  },
  {
   "cell_type": "code",
   "execution_count": 30,
   "id": "8210733f-ec34-4d20-8462-94ca9020f587",
   "metadata": {},
   "outputs": [
    {
     "name": "stdout",
     "output_type": "stream",
     "text": [
      "1\n",
      "4\n",
      "9\n",
      "16\n",
      "25\n"
     ]
    }
   ],
   "source": [
    "# print squares of numbers from 1 to5\n",
    "for i in range(1,6):\n",
    "    print(i**2)"
   ]
  },
  {
   "cell_type": "code",
   "execution_count": 40,
   "id": "89b19d92-2d59-4817-8318-76eae50d0d09",
   "metadata": {},
   "outputs": [
    {
     "name": "stdout",
     "output_type": "stream",
     "text": [
      "odd 1 even 2 odd 3 even 4 odd 5 even 6 odd 7 even 8 odd 9 even 10 "
     ]
    }
   ],
   "source": [
    "# print even number from 1 to 10\n",
    "for i in range(1,11):\n",
    "    if(i%2==0):\n",
    "        print(\"even\",i,end=\" \")\n",
    "    else:\n",
    "        print(\"odd\",i,end=\" \")"
   ]
  },
  {
   "cell_type": "code",
   "execution_count": 58,
   "id": "1eb29b8f-e835-4897-9d83-c4a58e54baef",
   "metadata": {},
   "outputs": [
    {
     "name": "stdout",
     "output_type": "stream",
     "text": [
      "1\n",
      "3\n",
      "6\n",
      "10\n",
      "15\n",
      "21\n",
      "28\n",
      "36\n",
      "45\n",
      "55\n"
     ]
    }
   ],
   "source": [
    "#calculate  sum of number from  1 to 10\n",
    "sum=0\n",
    "for i in range(1,11):\n",
    "   \n",
    "    sum+=i\n",
    "    \n",
    "    print(sum)"
   ]
  },
  {
   "cell_type": "code",
   "execution_count": 64,
   "id": "fbbec4cb-c866-429d-800e-1507e9757aab",
   "metadata": {},
   "outputs": [
    {
     "name": "stdout",
     "output_type": "stream",
     "text": [
      "a m r a h s   y a h s k a "
     ]
    }
   ],
   "source": [
    "# reverse a word\n",
    "word=\"akshay sharma\"\n",
    "for i in range(len(word)-1,-1,-1):\n",
    "    print(word[i],end=\" \")"
   ]
  },
  {
   "cell_type": "code",
   "execution_count": 72,
   "id": "912a4733-ff89-4e83-96e2-dbbde6d93897",
   "metadata": {},
   "outputs": [
    {
     "name": "stdout",
     "output_type": "stream",
     "text": [
      "total vowel in akshay sharma is 4\n"
     ]
    }
   ],
   "source": [
    "vowel=\"aeiou\"\n",
    "word=\"akshay sharma\"\n",
    "count=0\n",
    "for char in word:\n",
    "    if char in vowel:\n",
    "        count+=1\n",
    "print(f\"total vowel in {word} is {count}\")"
   ]
  },
  {
   "cell_type": "code",
   "execution_count": 74,
   "id": "dc8ebae0-a652-466b-bfb2-92077549a2b2",
   "metadata": {},
   "outputs": [
    {
     "name": "stdout",
     "output_type": "stream",
     "text": [
      "0\n",
      "1\n",
      "2\n",
      "3\n",
      "4\n"
     ]
    }
   ],
   "source": [
    "count=0\n",
    "while count<5:\n",
    "    print(count)\n",
    "    count+=1"
   ]
  },
  {
   "cell_type": "code",
   "execution_count": null,
   "id": "ec914f9d-6b48-4247-9566-853bebd27243",
   "metadata": {},
   "outputs": [],
   "source": []
  }
 ],
 "metadata": {
  "kernelspec": {
   "display_name": "Python [conda env:base] *",
   "language": "python",
   "name": "conda-base-py"
  },
  "language_info": {
   "codemirror_mode": {
    "name": "ipython",
    "version": 3
   },
   "file_extension": ".py",
   "mimetype": "text/x-python",
   "name": "python",
   "nbconvert_exporter": "python",
   "pygments_lexer": "ipython3",
   "version": "3.12.7"
  }
 },
 "nbformat": 4,
 "nbformat_minor": 5
}
