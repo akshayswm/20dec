{
 "cells": [
  {
   "cell_type": "code",
   "execution_count": null,
   "id": "adb4c1d4-408e-4ca4-828c-762e0d1d5ce9",
   "metadata": {},
   "outputs": [],
   "source": []
  },
  {
   "cell_type": "code",
   "execution_count": 9,
   "id": "485be307-1d44-420c-93b6-ff279bfcffc1",
   "metadata": {},
   "outputs": [
    {
     "name": "stdin",
     "output_type": "stream",
     "text": [
      "enter number 33\n"
     ]
    },
    {
     "name": "stdout",
     "output_type": "stream",
     "text": [
      "odd\n"
     ]
    }
   ],
   "source": [
    "#Q1 Write a program that takes an integer input from the user and checks whether the number is odd or\n",
    "#even.\n",
    "number=int(input(\"enter number\"))\n",
    "if(number%2==0):\n",
    "    print(\"even\")\n",
    "else:\n",
    "    print(\"odd\")"
   ]
  },
  {
   "cell_type": "code",
   "execution_count": 15,
   "id": "0b1b3bb4-07fa-4366-a4e1-b307a3d007cb",
   "metadata": {},
   "outputs": [
    {
     "name": "stdin",
     "output_type": "stream",
     "text": [
      "enter first number 12\n",
      "enter second number 15\n",
      "enter third number 11\n"
     ]
    },
    {
     "name": "stdout",
     "output_type": "stream",
     "text": [
      "b is the largest number 15\n"
     ]
    }
   ],
   "source": [
    "#Q2 Write a program that takes three numbers as input and prints the largest of the three.\n",
    "a=int(input(\"enter first number\"))\n",
    "b=int(input(\"enter second number\"))\n",
    "c=int(input(\"enter third number\"))\n",
    "if(a>b and a>c):\n",
    "    print(\"a is the largest number\",a)\n",
    "elif(b>a and b>c):\n",
    "    print(\"b is the largest number\",b)\n",
    "else:\n",
    "    print(\"c is the largest number\",c)"
   ]
  },
  {
   "cell_type": "code",
   "execution_count": 115,
   "id": "ec4f3781-1671-4001-8c79-ee926b17fc3e",
   "metadata": {},
   "outputs": [
    {
     "name": "stdin",
     "output_type": "stream",
     "text": [
      "enter a year 2014\n"
     ]
    },
    {
     "name": "stdout",
     "output_type": "stream",
     "text": [
      "2014 is not leap year\n"
     ]
    }
   ],
   "source": [
    "#Q3 Write a program to check if a given year is a leap year. A leap year is divisible by 4 but not by 100\n",
    "#unless it is also divisible by 400.\n",
    "year= int(input(\"enter a year\"))\n",
    "if(year%4==0 and year%100!=0) or (year%400==0):\n",
    "    print(f\" {year}  is leap year\")\n",
    "else:\n",
    "    print(f\"{year} is not leap year\")"
   ]
  },
  {
   "cell_type": "code",
   "execution_count": 27,
   "id": "0749cb07-45f7-4680-83ca-bcd810ff3727",
   "metadata": {},
   "outputs": [
    {
     "name": "stdin",
     "output_type": "stream",
     "text": [
      "enter your percentage 20\n"
     ]
    },
    {
     "name": "stdout",
     "output_type": "stream",
     "text": [
      "Grade E\n"
     ]
    }
   ],
   "source": [
    "#Q4 Write a program that takes a percentage (integer) as input and prints the corresponding grade based\n",
    "#on the following criteria:\n",
    "#>= 90: Grade A\n",
    "#>= 80: Grade B\n",
    "#>= 70: Grade C\n",
    "#>= 60: Grade D\n",
    "#< 60: Grade F\n",
    "percentage=int(input(\"enter your percentage\"))\n",
    "if(percentage>=90):\n",
    "    print(\"Grage A\")\n",
    "elif(80<=percentage<90):\n",
    "    print(\"Grage B\")\n",
    "elif(70<=percentage<80):\n",
    "    print(\"Grage C\")\n",
    "elif(60<=percentage<70):\n",
    "    print(\"Grage D\")\n",
    "else:\n",
    "    print(\"Grade E\")"
   ]
  },
  {
   "cell_type": "code",
   "execution_count": 37,
   "id": "c417935d-b2d4-48ce-8b2d-3c232ef089b6",
   "metadata": {},
   "outputs": [
    {
     "name": "stdin",
     "output_type": "stream",
     "text": [
      "give your letter o\n"
     ]
    },
    {
     "name": "stdout",
     "output_type": "stream",
     "text": [
      "Letter id vowel\n"
     ]
    }
   ],
   "source": [
    "#Q5 Write a program that checks if a given letter is a vowel (a, e, i, o, u) or a consonant.\n",
    "Letter=input(\"give your letter\")\n",
    "if(Letter==\"a\" or Letter==\"e\" or Letter==\"i\" or Letter==\"o\" or Letter==\"u\"):\n",
    "    print(\"Letter is vowel\")\n",
    "else:\n",
    "    print(\"Letter is consonant\")"
   ]
  },
  {
   "cell_type": "code",
   "execution_count": 47,
   "id": "92c7e91b-73c0-47dd-8dcb-496ceb6e8477",
   "metadata": {},
   "outputs": [
    {
     "name": "stdin",
     "output_type": "stream",
     "text": [
      "enter first number 9\n",
      "enter second number 8\n",
      "please give me operator %\n"
     ]
    },
    {
     "name": "stdout",
     "output_type": "stream",
     "text": [
      "invalid operation\n"
     ]
    }
   ],
   "source": [
    "#Q6 Write a basic calculator program that takes two numbers and an operator (+, -, *, /) as input and\n",
    "#performs the specified operation. Print the result based on the operation.\n",
    "a=int(input(\"enter first number\"))\n",
    "b=int(input(\"enter second number\"))\n",
    "c =input(\"please give me operator\")\n",
    "if(c==\"+\" ):\n",
    "    print(a+b)\n",
    "elif(c==\"-\"):\n",
    "    print(a-b)\n",
    "elif(c==\"*\"):\n",
    "    print(a*b)\n",
    "elif(c==\"/\"):\n",
    "    print(a/b)\n",
    "else:\n",
    "    print(\"invalid operation\")"
   ]
  },
  {
   "cell_type": "code",
   "execution_count": 57,
   "id": "3caa1862-c232-4921-8f3e-9dc633afba0f",
   "metadata": {},
   "outputs": [
    {
     "name": "stdin",
     "output_type": "stream",
     "text": [
      "enter number -9\n"
     ]
    },
    {
     "name": "stdout",
     "output_type": "stream",
     "text": [
      "number is negative\n"
     ]
    }
   ],
   "source": [
    "#Q7 Write a program that takes a number as input and checks whether it is positive, negative, or zero.\n",
    "num=int(input(\"enter number\"))\n",
    "if(num>0):\n",
    "    print(\"number is Positive\")\n",
    "elif(num==0):\n",
    "    print(\"number is zero\")\n",
    "else:\n",
    "    print(\"number is negative\")"
   ]
  },
  {
   "cell_type": "code",
   "execution_count": 63,
   "id": "f5673936-cf9c-40d8-aea3-be95fe20ce95",
   "metadata": {},
   "outputs": [
    {
     "name": "stdin",
     "output_type": "stream",
     "text": [
      "enter first sides 5\n",
      "enter second sides 6\n",
      "enter third sides -8\n"
     ]
    },
    {
     "name": "stdout",
     "output_type": "stream",
     "text": [
      "This is a triangle\n"
     ]
    }
   ],
   "source": [
    "#Q9 Write a program that takes three sides of a triangle as input and checks if those sides form a valid\n",
    "#triangle. A triangle is valid if the sum of any two sides is greater than the third side.\n",
    "#Check conditions like a + b > c, b + c > a, and a + c > b.\n",
    "a=int(input(\"enter first sides\"))\n",
    "b=int(input(\"enter second sides\"))\n",
    "c=int(input(\"enter third sides\"))\n",
    "if(a+b>c or b+c>a or a+c>b):\n",
    "    print(\"This is a triangle\")\n",
    "else:\n",
    "    print(\"invalid data\")"
   ]
  },
  {
   "cell_type": "code",
   "execution_count": 2,
   "id": "bf3bb4f2-0058-436d-a580-281475d78960",
   "metadata": {},
   "outputs": [
    {
     "name": "stdin",
     "output_type": "stream",
     "text": [
      "Enter your weight in kilograms:  68\n",
      "Enter your height in meters:  1.75\n"
     ]
    },
    {
     "name": "stdout",
     "output_type": "stream",
     "text": [
      "Your BMI is 22.2\n",
      "Category: Normal weight\n"
     ]
    }
   ],
   "source": [
    "#Q10 Write a program that calculates the Body Mass Index (BMI) based on user input for weight (in\n",
    "#kilograms) and height (in meters). Then categorize the BMI into:\n",
    "#Underweight (BMI < 18.5)\n",
    "#Normal weight (18.5 <= BMI < 24.9)\n",
    "#Overweight (25 <= BMI < 29.9)\n",
    "#Obesity (BMI >= 30)\n",
    "#Use the formula: BMI = weight / (heig#ht ** 2)#####\n",
    "weight = float(input(\"Enter your weight in kilograms: \"))\n",
    "height = float(input(\"Enter your height in meters: \"))\n",
    "bmi=weight/(height**2)\n",
    "print(\"Your BMI is\",round(bmi,2))\n",
    "if(bmi<18.5):\n",
    "    print(\"Category :Underweight\")\n",
    "elif(bmi<24.9):\n",
    "    print(\"Category: Normal weight\")\n",
    "elif(bmi<29.9):\n",
    "    print(\"Category:Overweight\")\n",
    "else:\n",
    "    print(\"Category:Obesity\")\n",
    "\n",
    "\n"
   ]
  },
  {
   "cell_type": "code",
   "execution_count": 100,
   "id": "e4ebb577-89d9-4e25-b122-88eda91f2522",
   "metadata": {},
   "outputs": [
    {
     "name": "stdin",
     "output_type": "stream",
     "text": [
      "enter price 400\n"
     ]
    },
    {
     "name": "stdout",
     "output_type": "stream",
     "text": [
      "Discount applied 0\n",
      "Final price 400\n"
     ]
    }
   ],
   "source": [
    "#Q11 Write a program that calculates the discount for a product based on its price:\n",
    "#If price is greater than 1000, discount is 10%\n",
    "#If price is between 500 and 1000, discount is 5%\n",
    "#Otherwise, no discount\n",
    "#Print the final price after applying the discount.\n",
    "price=int(input(\"enter price\"))\n",
    "if(price>1000):\n",
    "    discount=price*0.10\n",
    "elif(price>=500):\n",
    "    discount=price*0.05\n",
    "else:\n",
    "    discount=0\n",
    "final_price=price-discount\n",
    "print(\"Discount applied\",discount)\n",
    "print(\"Final price\",final_price)\n",
    "    "
   ]
  },
  {
   "cell_type": "code",
   "execution_count": 117,
   "id": "abff03e9-6909-4099-beb1-8b10514ab008",
   "metadata": {},
   "outputs": [
    {
     "name": "stdin",
     "output_type": "stream",
     "text": [
      "enter month name: April\n",
      "enter year : 2000\n"
     ]
    },
    {
     "name": "stdout",
     "output_type": "stream",
     "text": [
      "invalid input\n"
     ]
    }
   ],
   "source": [
    "#Q12 Write a program that takes the name of a month as input and prints the number of days in that\n",
    "#month. Consider leap years for February.\n",
    "name=input(\"enter month name:\").strip().lower()\n",
    "year=int(input(\"enter year :\"))\n",
    "leap=(year%4 == 0 and year%100 != 0 ) or ( year%400 == 0)\n",
    "if(name==\"January\" or name==\"March\" or name==\"May\" or name==\"July\" or name==\"August\" or name==\"October\" or name==\"December\"):\n",
    "    print(\"number of days\",31)\n",
    "elif(name==\"April\" or name==\"June\" or name==\"September\" or name==\"November\"):\n",
    "    print(\"number of days\",30)   \n",
    "elif(name==\"February\"):\n",
    "    if leap:\n",
    "        print(\"number of days\",29)\n",
    "    else:\n",
    "        print(\"number of days\",28)\n",
    "else:\n",
    "    print(\"invalid input\")"
   ]
  },
  {
   "cell_type": "code",
   "execution_count": 18,
   "id": "7859eb6a-e036-42a0-b0f6-44fb4f493c15",
   "metadata": {},
   "outputs": [
    {
     "name": "stdout",
     "output_type": "stream",
     "text": [
      "Welcome to ATM\n",
      "1. Check Balance\n",
      "2. Deposit Money\n",
      "3. Withdraw Money\n"
     ]
    },
    {
     "name": "stdin",
     "output_type": "stream",
     "text": [
      "Enter your choice(1/2/3): 4\n"
     ]
    },
    {
     "name": "stdout",
     "output_type": "stream",
     "text": [
      "Invalid choice.Please try again\n"
     ]
    }
   ],
   "source": [
    "#Q13 Write a program that simulates a simple ATM. The user should be able to:\n",
    "#Check balance,Deposit money\n",
    "#Withdraw money (ensure the balance doesn't go negative) Use an if-else structure to handle the user's\n",
    "#choices\n",
    "balance=1000\n",
    "print(\"Welcome to ATM\")\n",
    "print(\"1. Check Balance\")\n",
    "print(\"2. Deposit Money\")\n",
    "print(\"3. Withdraw Money\")\n",
    "choice=int(input(\"Enter your choice(1/2/3):\"))\n",
    "if choice==1:\n",
    "    print(\"Your current balance is \",balance)\n",
    "elif choice==2:\n",
    "    amount=int(input(\"Enter amount to deposit:\"))\n",
    "    if amount>0:\n",
    "        balance+=amount\n",
    "        print(\"Deposit successful .New balance is \",balance)\n",
    "    else:\n",
    "        print(\"Invalid deposit amount\")\n",
    "elif choice==3:\n",
    "    amount=int(input(\"Enter amount to withdraw:\"))\n",
    "    if amount>balance:\n",
    "        print(\"Insufficient balance. Withdrawal failed\")\n",
    "    elif amount <=0 :\n",
    "        print(\"Invalid withdrawal amount\")\n",
    "    else:\n",
    "        balance-=amount\n",
    "        print(\"Withdrawal successful.New balance is\",balance)\n",
    "\n",
    "else:\n",
    "    print(\"Invalid choice.Please try again\")"
   ]
  },
  {
   "cell_type": "code",
   "execution_count": 56,
   "id": "aa79e442-a19d-4fd1-9a08-704b76d3d693",
   "metadata": {},
   "outputs": [
    {
     "name": "stdin",
     "output_type": "stream",
     "text": [
      "enter your age 77\n"
     ]
    },
    {
     "name": "stdout",
     "output_type": "stream",
     "text": [
      "Senior\n"
     ]
    }
   ],
   "source": [
    "# Q14 Write a program that categorizes a given age into different groups:\n",
    "#Infant (0-1 year)\n",
    "#Toddler (2-4 years)\n",
    "#Child (5-12 years)\n",
    "#Teenager (13-19 years)\n",
    "#Adult (20-59 years)\n",
    "#Senior (60 years and above)\n",
    "age=int(input(\"enter your age\"))\n",
    "if(age<=1):\n",
    "    print(\"Infant\")\n",
    "elif(2<=age<=4):\n",
    "    print(\"Toddler\")\n",
    "elif(5<=age<=12):\n",
    "    print(\"Child\")\n",
    "elif(13<=age<=19):\n",
    "    print(\"Teenager\")\n",
    "elif(20<=age<=59):\n",
    "    print(\"Adult\")\n",
    "else:\n",
    "    print(\"Senior\")"
   ]
  },
  {
   "cell_type": "code",
   "execution_count": 22,
   "id": "37b8c396-78ff-4b5d-a8a9-499bfaea1a78",
   "metadata": {},
   "outputs": [
    {
     "name": "stdin",
     "output_type": "stream",
     "text": [
      "enter your days 9\n"
     ]
    },
    {
     "name": "stdout",
     "output_type": "stream",
     "text": [
      "invalid day\n"
     ]
    }
   ],
   "source": [
    "#Q15 Write a program that takes an integer (1-7) as input and prints the corresponding day of the week (1\n",
    "#for Monday, 2 for Tuesday, etc.).\n",
    "day=int(input(\"enter your days\"))\n",
    "if(day==1):\n",
    "    print(\"Monday\")\n",
    "elif(day==2):\n",
    "    print(\"Tuesday\")\n",
    "elif(day==3):\n",
    "   print(\"Wednesday\")\n",
    "elif(day==4):\n",
    "    print(\"Thrusday\")\n",
    "elif(day==5):\n",
    "    print(\"Friday\")\n",
    "elif(day==6):\n",
    "    print(\"Saturday\")\n",
    "elif(day==7):\n",
    "    print(\"Sunday\")\n",
    "else:\n",
    "    print(\"invalid day\")"
   ]
  },
  {
   "cell_type": "code",
   "execution_count": null,
   "id": "d3a43f0b-d27f-4a61-8515-56d6fc218ae1",
   "metadata": {},
   "outputs": [],
   "source": []
  }
 ],
 "metadata": {
  "kernelspec": {
   "display_name": "Python [conda env:base] *",
   "language": "python",
   "name": "conda-base-py"
  },
  "language_info": {
   "codemirror_mode": {
    "name": "ipython",
    "version": 3
   },
   "file_extension": ".py",
   "mimetype": "text/x-python",
   "name": "python",
   "nbconvert_exporter": "python",
   "pygments_lexer": "ipython3",
   "version": "3.12.7"
  }
 },
 "nbformat": 4,
 "nbformat_minor": 5
}
